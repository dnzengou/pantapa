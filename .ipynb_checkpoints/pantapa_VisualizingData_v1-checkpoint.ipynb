{
 "cells": [
  {
   "cell_type": "markdown",
   "metadata": {},
   "source": [
    "<a href=\"https://colab.research.google.com/github/dnzengou/pantapa/blob/master/pantapa_VisualizingData_v1.ipynb\" \n",
    "target=\"_parent\"><img src=\"https://colab.research.google.com/assets/colab-badge.svg\" alt=\"Open In Colab\"/></a>"
   ]
  },
  {
   "cell_type": "markdown",
   "metadata": {},
   "source": [
    "# Visualizing Data for Classification\n",
    "\n",
    "In the previous lab, you explored the automotive price dataset to understand the relationships for a regression problem. In this lab you will explore the German bank credit dataset to understand the relationships for a **classification** problem. The difference being, that in classification problems the label is a categorical variable. \n",
    "\n",
    "In other labs you will use what you learn through visualization to create a solution that predicts the customers with bad credit. For now, the focus of this lab is on visually exploring the data to determine which features may be useful in predicting customer's bad credit.\n",
    "\n",
    "Visualization for classification problems shares much in common with visualization for regression problems. Colinear features should be identified so they can be eliminated or otherwise dealt with. However, for classification problems you are looking for features that help **separate the label categories**. Separation is achieved when there are distinctive feature values for each label category. Good separation results in low classification error rate."
   ]
  },
  {
   "cell_type": "markdown",
   "metadata": {},
   "source": [
    "## Load and prepare the data set \n",
    "\n",
    "### Prepare data to a manageable format"
   ]
  },
  {
   "cell_type": "markdown",
   "metadata": {},
   "source": [
    "***Processing bson files***\n",
    "\n",
    "source:\n",
    "- [Kaggle](https://www.kaggle.com/inversion/processing-bson-files?select=category_names.csv)\n",
    "- [Access and process nested objects, arrays or JSON](https://hackersandslackers.com/extract-data-from-complex-json-python/)"
   ]
  },
  {
   "cell_type": "code",
   "execution_count": 3,
   "metadata": {},
   "outputs": [],
   "source": [
    "## Unziping (file on linux)\n",
    "#unzip pantapa_api_development.zip"
   ]
  },
  {
   "cell_type": "code",
   "execution_count": 4,
   "metadata": {},
   "outputs": [],
   "source": [
    "##  Convert bson files with, optionally, the outputs documents in a pretty-printed format JSON\n",
    "#bsondump --pretty --outFile collection.json collection.bson\n",
    "## OR via https://json-bson-converter.appspot.com/"
   ]
  },
  {
   "cell_type": "code",
   "execution_count": 99,
   "metadata": {},
   "outputs": [
    {
     "name": "stdout",
     "output_type": "stream",
     "text": [
      "['vouchertypes.json', 'scans.json', 'brands.json', 'appinfos.json', 'voucherurls.json', 'vouchers.json', 'vouchertypeurls.json', 'organizations.json', 'materialtypes.json', 'companies.json', 'stations.json', 'prescans.json']\n"
     ]
    }
   ],
   "source": [
    "## List all the mongodb data .bson files in the dedicated folder\n",
    "\n",
    "import os\n",
    "\n",
    "json_arr = os.listdir('data/data-pantapa_bson2json')\n",
    "print(json_arr)"
   ]
  },
  {
   "cell_type": "code",
   "execution_count": 78,
   "metadata": {},
   "outputs": [
    {
     "name": "stdout",
     "output_type": "stream",
     "text": [
      "appinfos.bson\n",
      "appinfos.metadata.json\n",
      "brands.bson\n",
      "brands.metadata.json\n",
      "codenotfounds.metadata.json\n",
      "companies.bson\n",
      "companies.metadata.json\n",
      "materialtypes.bson\n",
      "materialtypes.metadata.json\n",
      "modulehashes.metadata.json\n",
      "organizations.bson\n",
      "organizations.metadata.json\n",
      "packages.metadata.json\n",
      "prescans.bson\n",
      "prescans.metadata.json\n",
      "scans.bson\n",
      "scans.metadata.json\n",
      "sessiontokens.bson\n",
      "stations.bson\n",
      "stations.metadata.json\n",
      "tokens.bson\n",
      "tokens.metadata.json\n",
      "userinformations.metadata.json\n",
      "vouchers.bson\n",
      "vouchertypes.bson\n",
      "vouchertypes.metadata.json\n",
      "vouchertypeurls.bson\n",
      "voucherurls.bson\n",
      "voucherurls.metadata.json\n",
      "\n"
     ]
    }
   ],
   "source": [
    "## Alternatively, proceed as below\n",
    "## Eg. list all bson files Input data files contained in pantapa_api_development directory\n",
    "\n",
    "from subprocess import check_output\n",
    "print(check_output(['ls', 'data/data-pantapa_bson']).decode('utf8'))\n",
    "\n",
    "# Any results writen to the current directory are saved as output."
   ]
  },
  {
   "cell_type": "code",
   "execution_count": 126,
   "metadata": {},
   "outputs": [],
   "source": [
    "## Convert files from json to csv, for ease of processing and visualization\n",
    "import pandas as pd\n",
    "import json"
   ]
  },
  {
   "cell_type": "code",
   "execution_count": 115,
   "metadata": {
    "scrolled": true
   },
   "outputs": [
    {
     "name": "stdout",
     "output_type": "stream",
     "text": [
      "{'_id': {'machine': -1768797184, 'inc': 299119782, 'time': 1576742726}, 'data': {'name': 'Test', 'active': True, 'alreadyConnected': True, 'show_popup_notification': False}, 'meta': {'timestamp': {'createdAt': 1576742726344, 'updatedAt': 1576742726344}}, 'local': {'sv': {'name': 'Test'}}, '__v': 0}\n"
     ]
    }
   ],
   "source": [
    "## Read and print JSON files into the directory in JSON format\n",
    "## Let's start with companies\n",
    "\n",
    "# Open the existing JSON file for loading into a variable\n",
    "with open('data/data-pantapa_bson2json/companies.json') as json_file:\n",
    "  companies = json.load(json_file) #This does the same as above, reading the json file and storing it into a variable (dict)\n",
    "\n",
    "print(companies)"
   ]
  },
  {
   "cell_type": "code",
   "execution_count": 116,
   "metadata": {},
   "outputs": [
    {
     "name": "stdout",
     "output_type": "stream",
     "text": [
      "{\n",
      "    \"__v\": 0,\n",
      "    \"_id\": {\n",
      "        \"inc\": 299119782,\n",
      "        \"machine\": -1768797184,\n",
      "        \"time\": 1576742726\n",
      "    },\n",
      "    \"data\": {\n",
      "        \"active\": true,\n",
      "        \"alreadyConnected\": true,\n",
      "        \"name\": \"Test\",\n",
      "        \"show_popup_notification\": false\n",
      "    },\n",
      "    \"local\": {\n",
      "        \"sv\": {\n",
      "            \"name\": \"Test\"\n",
      "        }\n",
      "    },\n",
      "    \"meta\": {\n",
      "        \"timestamp\": {\n",
      "            \"createdAt\": 1576742726344,\n",
      "            \"updatedAt\": 1576742726344\n",
      "        }\n",
      "    }\n",
      "}\n"
     ]
    }
   ],
   "source": [
    "## Or in pretty json\n",
    "print(json.dumps(companies, indent=4, sort_keys=True))"
   ]
  },
  {
   "cell_type": "code",
   "execution_count": 123,
   "metadata": {
    "scrolled": true
   },
   "outputs": [],
   "source": [
    "## Note. We obtain below the same result as when proceeding as above\n",
    "companies = pd.read_json('data/data-pantapa_bson2json/companies.json', lines=True)"
   ]
  },
  {
   "cell_type": "code",
   "execution_count": 124,
   "metadata": {},
   "outputs": [],
   "source": [
    "## Let's convert companies into csv format. We will do the same for the other json files\n",
    "companies.to_csv (r'data/data-pantapa_json2csv/companies.csv', index = None)"
   ]
  },
  {
   "cell_type": "code",
   "execution_count": 125,
   "metadata": {
    "scrolled": true
   },
   "outputs": [
    {
     "data": {
      "text/html": [
       "<div>\n",
       "<style scoped>\n",
       "    .dataframe tbody tr th:only-of-type {\n",
       "        vertical-align: middle;\n",
       "    }\n",
       "\n",
       "    .dataframe tbody tr th {\n",
       "        vertical-align: top;\n",
       "    }\n",
       "\n",
       "    .dataframe thead th {\n",
       "        text-align: right;\n",
       "    }\n",
       "</style>\n",
       "<table border=\"1\" class=\"dataframe\">\n",
       "  <thead>\n",
       "    <tr style=\"text-align: right;\">\n",
       "      <th></th>\n",
       "      <th>_id</th>\n",
       "      <th>data</th>\n",
       "      <th>meta</th>\n",
       "      <th>local</th>\n",
       "      <th>__v</th>\n",
       "    </tr>\n",
       "  </thead>\n",
       "  <tbody>\n",
       "    <tr>\n",
       "      <th>0</th>\n",
       "      <td>{'machine': -1768797184, 'inc': 299119782, 'ti...</td>\n",
       "      <td>{'name': 'Test', 'active': True, 'alreadyConne...</td>\n",
       "      <td>{'timestamp': {'createdAt': 1576742726344, 'up...</td>\n",
       "      <td>{'sv': {'name': 'Test'}}</td>\n",
       "      <td>0</td>\n",
       "    </tr>\n",
       "  </tbody>\n",
       "</table>\n",
       "</div>"
      ],
      "text/plain": [
       "                                                 _id  \\\n",
       "0  {'machine': -1768797184, 'inc': 299119782, 'ti...   \n",
       "\n",
       "                                                data  \\\n",
       "0  {'name': 'Test', 'active': True, 'alreadyConne...   \n",
       "\n",
       "                                                meta  \\\n",
       "0  {'timestamp': {'createdAt': 1576742726344, 'up...   \n",
       "\n",
       "                      local  __v  \n",
       "0  {'sv': {'name': 'Test'}}    0  "
      ]
     },
     "execution_count": 125,
     "metadata": {},
     "output_type": "execute_result"
    }
   ],
   "source": [
    "## Let's check the structure of this newly converted csv file\n",
    "companies_csv = pd.read_csv('data/data-pantapa_json2csv/companies.csv')\n",
    "\n",
    "companies.head()"
   ]
  },
  {
   "cell_type": "markdown",
   "metadata": {},
   "source": [
    "Inspecting the data structure for a few of these objects and dictionaries (dict) shows that the csv files do not look like something we want to use for visualization (nested data)... We willl work on json format instead. An easier way could have been to load the bson files on MongoDB, then selecting data subsets of interest for further analysis; we will go straight to that step with the queries down below (in the processing section)."
   ]
  },
  {
   "cell_type": "code",
   "execution_count": 8,
   "metadata": {},
   "outputs": [],
   "source": [
    "## Let's proceed with brands file: read json (already done above) and convert to csv\n",
    "#brands = pd.read_json('data/data-pantapa_bson2json/brands.json', lines=True)\n",
    "brands.to_csv (r'data/data-pantapa_json2csv/brands.csv', index = None)"
   ]
  },
  {
   "cell_type": "code",
   "execution_count": 122,
   "metadata": {},
   "outputs": [
    {
     "name": "stdout",
     "output_type": "stream",
     "text": [
      "{'_id': {'machine': 1762676284, 'inc': 1074367085, 'time': 1560947259}, 'data': {'name': 'Apoteket AB', 'image': {'key': 'development/brands-image/5d0a2a3b69104e3c40098a6d-apoteket_logo_png', 'source': 'https://panta-pasen.s3.amazonaws.com/development/brands-image/5d0a2a3b69104e3c40098a6d-apoteket_logo_png'}, 'active': True, 'company_id': None, 'country_code': ['SE'], 'deep_link': 'https://app.pantapa.com/N3AKBENTKSpAgZeq9'}, 'meta': {'timestamp': {'createdAt': 1566215629675, 'updatedAt': 1591180045366}}, 'local': {'sv': {'order': 10, 'company_name': None, 'company_address': None, 'post_address': None, 'vat_nr': None, 'contact_person': {}, 'how_it_works': {'package_name': 'Apoteket ABs plastpåsar', 'image_link': {'key': 'development/brands-image/5d0a2a3b69104e3c40098a6d_package-Apoteket_Bags_Green_png', 'source': 'https://panta-pasen.s3.amazonaws.com/development/brands-image/5d0a2a3b69104e3c40098a6d_package-Apoteket_Bags_Green_png', '__typename': 'AwsImage'}, 'text_line1': 'See available stores', 'text_line1_url': 'https://www.apoteket.se/globalassets/om-apoteket/hallbar-utveckling/apotek-med-pantbara-pasar-2019_apoteket_se.pdf', 'text_line2': 'Upp till 2 SEK per pantad påse.', 'show_brand_logo': True, 'description': ['Plastpåsar sålda i utvalda buikter i Sverige.', 'Upp till 2 SEK per skannad plastpåse. ']}}, 'en': {'order': 10, 'company_name': None, 'company_address': None, 'post_address': None, 'vat_nr': None, 'contact_person': {}, 'how_it_works': {'package_name': \"Apoteket AB's plastic bags\", 'image_link': {'key': 'development/brands-image/5d0a2a3b69104e3c40098a6d_package-Apoteket_Bags_Green_png', 'source': 'https://panta-pasen.s3.amazonaws.com/development/brands-image/5d0a2a3b69104e3c40098a6d_package-Apoteket_Bags_Green_png', '__typename': 'AwsImage'}, 'text_line1': 'Se tillgängliga butiker', 'text_line1_url': 'https://www.apoteket.se/globalassets/om-apoteket/hallbar-utveckling/apotek-med-pantbara-pasar-2019_apoteket_se.pdf', 'text_line2': 'Up to SEK 2 per deposited bag.', 'show_brand_logo': True, 'description': ['Plastic bags sold in selected stores in Sweden.', 'Up to SEK 2 per scanned bag']}}}}\n"
     ]
    }
   ],
   "source": [
    "print(brands)\n",
    "#print(json.dumps(brands, indent=4, sort_keys=True))"
   ]
  },
  {
   "cell_type": "code",
   "execution_count": 9,
   "metadata": {},
   "outputs": [],
   "source": [
    "materialtypes = pd.read_json('data/data-pantapa_bson2json/materialtypes.json', lines=True)\n",
    "materialtypes.to_csv (r'data/data-pantapa_json2csv/materialtypes.csv', index = None)"
   ]
  },
  {
   "cell_type": "code",
   "execution_count": 13,
   "metadata": {},
   "outputs": [],
   "source": [
    "organizations = pd.read_json('data/data-pantapa_bson2json/organizations.json', lines=True)\n",
    "organizations.to_csv (r'data/data-pantapa_json2csv/organizations.csv', index = None)"
   ]
  },
  {
   "cell_type": "code",
   "execution_count": 15,
   "metadata": {},
   "outputs": [],
   "source": [
    "prescans = pd.read_json('data/data-pantapa_bson2json/prescans.json', lines=True)\n",
    "prescans.to_csv (r'data/data-pantapa_json2csv/prescans.csv', index = None)"
   ]
  },
  {
   "cell_type": "code",
   "execution_count": 16,
   "metadata": {},
   "outputs": [],
   "source": [
    "scans = pd.read_json('data/data-pantapa_bson2json/scans.json', lines=True)\n",
    "scans.to_csv (r'data/data-pantapa_json2csv/scans.csv', index = None)"
   ]
  },
  {
   "cell_type": "code",
   "execution_count": 17,
   "metadata": {},
   "outputs": [],
   "source": [
    "stations = pd.read_json('data/data-pantapa_bson2json/stations.json', lines=True)\n",
    "stations.to_csv (r'data/data-pantapa_json2csv/stations.csv', index = None)"
   ]
  },
  {
   "cell_type": "code",
   "execution_count": 19,
   "metadata": {},
   "outputs": [],
   "source": [
    "vouchertypes = pd.read_json('data/data-pantapa_bson2json/vouchertypes.json', lines=True)\n",
    "vouchertypes.to_csv (r'data/data-pantapa_json2csv/vouchertypes.csv', index = None)"
   ]
  },
  {
   "cell_type": "code",
   "execution_count": 20,
   "metadata": {},
   "outputs": [],
   "source": [
    "vouchertypeurls = pd.read_json('data/data-pantapa_bson2json/vouchertypeurls.json', lines=True)\n",
    "vouchertypeurls.to_csv (r'data/data-pantapa_json2csv/vouchertypeurls.csv', index = None)"
   ]
  },
  {
   "cell_type": "code",
   "execution_count": 21,
   "metadata": {},
   "outputs": [],
   "source": [
    "voucherurls = pd.read_json('data/data-pantapa_bson2json/voucherurls.json', lines=True)\n",
    "voucherurls.to_csv (r'data/data-pantapa_json2csv/voucherurls.csv', index = None)"
   ]
  },
  {
   "cell_type": "markdown",
   "metadata": {},
   "source": [
    "Let's check the list of converted csv files:"
   ]
  },
  {
   "cell_type": "code",
   "execution_count": 100,
   "metadata": {
    "scrolled": true
   },
   "outputs": [
    {
     "name": "stdout",
     "output_type": "stream",
     "text": [
      "brands.csv\n",
      "companies.csv\n",
      "materialtypes.csv\n",
      "organizations.csv\n",
      "prescans.csv\n",
      "scans.csv\n",
      "stations.csv\n",
      "vouchers.csv\n",
      "vouchertypes.csv\n",
      "vouchertypeurls.csv\n",
      "voucherurls.csv\n",
      "\n"
     ]
    }
   ],
   "source": [
    "from subprocess import check_output\n",
    "print(check_output(['ls', 'data/data-pantapa_json2csv']).decode('utf8'))"
   ]
  },
  {
   "cell_type": "markdown",
   "metadata": {},
   "source": [
    "### Extract objects from nested JSON\n",
    "#### and explore datasets\n"
   ]
  },
  {
   "cell_type": "code",
   "execution_count": 128,
   "metadata": {},
   "outputs": [
    {
     "name": "stdout",
     "output_type": "stream",
     "text": [
      "[18.0373788, 59.3313148]\n"
     ]
    }
   ],
   "source": [
    "## Inspect content of the scans dictionary\n",
    "print(scans['data']['enums']['location']['coordinates'])"
   ]
  },
  {
   "cell_type": "markdown",
   "metadata": {},
   "source": [
    "Lat = 59.3313148, Long = 18.0373788\n",
    "![station0](img/Latitude-Longitude_Point0.png)\n",
    "[source](https://getlatlong.net/)"
   ]
  },
  {
   "cell_type": "code",
   "execution_count": 43,
   "metadata": {
    "scrolled": true
   },
   "outputs": [
    {
     "name": "stdout",
     "output_type": "stream",
     "text": [
      "Apoteket stor grå påse\n"
     ]
    }
   ],
   "source": [
    "print(scans['data']['enums']['name'])"
   ]
  },
  {
   "cell_type": "markdown",
   "metadata": {},
   "source": [
    "Let's proceed the same way with the other dictionaries obtained above from reading json files."
   ]
  },
  {
   "cell_type": "code",
   "execution_count": 44,
   "metadata": {},
   "outputs": [
    {
     "name": "stdout",
     "output_type": "stream",
     "text": [
      "[27.5285912, 53.9204432]\n"
     ]
    }
   ],
   "source": [
    "print(prescans['data']['enums']['location']['coordinates'])"
   ]
  },
  {
   "cell_type": "code",
   "execution_count": 45,
   "metadata": {},
   "outputs": [
    {
     "name": "stdout",
     "output_type": "stream",
     "text": [
      "PENDING\n"
     ]
    }
   ],
   "source": [
    "print(prescans['data']['enums']['status'])"
   ]
  },
  {
   "cell_type": "code",
   "execution_count": 46,
   "metadata": {},
   "outputs": [
    {
     "name": "stdout",
     "output_type": "stream",
     "text": [
      "Brunchägg L 12-p inbur HP\n"
     ]
    }
   ],
   "source": [
    "print(prescans['data']['enums']['name'])"
   ]
  },
  {
   "cell_type": "code",
   "execution_count": 59,
   "metadata": {},
   "outputs": [
    {
     "name": "stdout",
     "output_type": "stream",
     "text": [
      "1556777805897\n"
     ]
    }
   ],
   "source": [
    "print(vouchers['data']['redeem_date'])"
   ]
  },
  {
   "cell_type": "code",
   "execution_count": 60,
   "metadata": {},
   "outputs": [
    {
     "name": "stdout",
     "output_type": "stream",
     "text": [
      "2019-11-14T00:00:00\n"
     ]
    }
   ],
   "source": [
    "print(vouchers['data']['coupon']['validTo'])"
   ]
  },
  {
   "cell_type": "code",
   "execution_count": 55,
   "metadata": {},
   "outputs": [
    {
     "name": "stdout",
     "output_type": "stream",
     "text": [
      "Panta Påsen Test\n"
     ]
    }
   ],
   "source": [
    "print(vouchers['data']['coupon']['name'])"
   ]
  },
  {
   "cell_type": "code",
   "execution_count": 57,
   "metadata": {},
   "outputs": [
    {
     "name": "stdout",
     "output_type": "stream",
     "text": [
      "http://p.kupong.se/LY2Ujv64yF\n"
     ]
    }
   ],
   "source": [
    "print(vouchers['data']['coupon']['htmlLink'])"
   ]
  },
  {
   "cell_type": "code",
   "execution_count": 58,
   "metadata": {},
   "outputs": [
    {
     "name": "stdout",
     "output_type": "stream",
     "text": [
      "LY2Ujv64yF\n"
     ]
    }
   ],
   "source": [
    "print(vouchers['data']['coupon']['couponCode'])"
   ]
  },
  {
   "cell_type": "markdown",
   "metadata": {},
   "source": [
    "We observe that there is only one brand in this file. Not enough to draw any pattern or trend, yet interersting to explore in depth some variables of interest for information purpose. To get to know the data better."
   ]
  },
  {
   "cell_type": "code",
   "execution_count": 63,
   "metadata": {},
   "outputs": [
    {
     "name": "stdout",
     "output_type": "stream",
     "text": [
      "Apoteket AB\n"
     ]
    }
   ],
   "source": [
    "print(brands['data']['name'])"
   ]
  },
  {
   "cell_type": "code",
   "execution_count": 65,
   "metadata": {
    "collapsed": true
   },
   "outputs": [
    {
     "name": "stdout",
     "output_type": "stream",
     "text": [
      "https://panta-pasen.s3.amazonaws.com/development/brands-image/5d0a2a3b69104e3c40098a6d-apoteket_logo_png\n"
     ]
    }
   ],
   "source": [
    "print(brands['data']['image']['source'])"
   ]
  },
  {
   "cell_type": "markdown",
   "metadata": {},
   "source": [
    "![source](https://panta-pasen.s3.amazonaws.com/development/brands-image/5d0a2a3b69104e3c40098a6d-apoteket_logo_png)\n",
    "[apoteket_logo](https://panta-pasen.s3.amazonaws.com/development/brands-image/5d0a2a3b69104e3c40098a6d-apoteket_logo_png)"
   ]
  },
  {
   "cell_type": "code",
   "execution_count": 67,
   "metadata": {},
   "outputs": [
    {
     "name": "stdout",
     "output_type": "stream",
     "text": [
      "['SE']\n"
     ]
    }
   ],
   "source": [
    "print(brands['data']['country_code'])"
   ]
  },
  {
   "cell_type": "code",
   "execution_count": 73,
   "metadata": {
    "collapsed": true
   },
   "outputs": [
    {
     "name": "stdout",
     "output_type": "stream",
     "text": [
      "https://panta-pasen.s3.amazonaws.com/development/brands-image/5d0a2a3b69104e3c40098a6d_package-Apoteket_Bags_Green_png\n"
     ]
    }
   ],
   "source": [
    "print(brands['local']['sv']['how_it_works']['image_link']['source'])"
   ]
  },
  {
   "cell_type": "markdown",
   "metadata": {},
   "source": [
    "![bags_green](https://panta-pasen.s3.amazonaws.com/development/brands-image/5d0a2a3b69104e3c40098a6d_package-Apoteket_Bags_Green_png)\n",
    "[Bags_Green](https://panta-pasen.s3.amazonaws.com/development/brands-image/5d0a2a3b69104e3c40098a6d_package-Apoteket_Bags_Green_png)"
   ]
  },
  {
   "cell_type": "code",
   "execution_count": 74,
   "metadata": {},
   "outputs": [
    {
     "name": "stdout",
     "output_type": "stream",
     "text": [
      "https://www.apoteket.se/globalassets/om-apoteket/hallbar-utveckling/apotek-med-pantbara-pasar-2019_apoteket_se.pdf\n"
     ]
    }
   ],
   "source": [
    "print(brands['local']['sv']['how_it_works']['text_line1_url'])"
   ]
  },
  {
   "cell_type": "code",
   "execution_count": 75,
   "metadata": {},
   "outputs": [
    {
     "name": "stdout",
     "output_type": "stream",
     "text": [
      "Apoteket ABs plastpåsar\n"
     ]
    }
   ],
   "source": [
    "print(brands['local']['sv']['how_it_works']['package_name'])"
   ]
  },
  {
   "cell_type": "code",
   "execution_count": 82,
   "metadata": {},
   "outputs": [
    {
     "name": "stdout",
     "output_type": "stream",
     "text": [
      "['Plastic bags sold in selected stores in Sweden.', 'Up to SEK 2 per scanned bag']\n"
     ]
    }
   ],
   "source": [
    "print(brands['local']['en']['how_it_works']['description'])"
   ]
  },
  {
   "cell_type": "code",
   "execution_count": 129,
   "metadata": {
    "scrolled": true
   },
   "outputs": [
    {
     "name": "stdout",
     "output_type": "stream",
     "text": [
      "{\n",
      "    \"__v\": 0,\n",
      "    \"_id\": {\n",
      "        \"inc\": -2072099102,\n",
      "        \"machine\": 1962819352,\n",
      "        \"time\": 1545242828\n",
      "    },\n",
      "    \"data\": {\n",
      "        \"address\": \"Borgarfjordsgatan 8, 164 40 Kista, Sweden\",\n",
      "        \"country_code\": \"SE\",\n",
      "        \"description\": \"Laudantium et dignissimos voluptate eos. Dolorum quo voluptas corporis id aliquid magni voluptas. Soluta ducimus voluptas vel aut nihil ullam. Debitis consequatur vitae. Culpa voluptates tempora aut. Voluptatem occaecati voluptatem.\",\n",
      "        \"disabled\": false,\n",
      "        \"location\": {\n",
      "            \"coordinates\": [\n",
      "                17.9472797,\n",
      "                59.4067509\n",
      "            ],\n",
      "            \"type\": \"Point\"\n",
      "        },\n",
      "        \"name\": \"Test 1\",\n",
      "        \"point_type\": \"STATION\",\n",
      "        \"public\": true,\n",
      "        \"scan_distance\": 100,\n",
      "        \"store\": \"Eriksson - Nilsson\",\n",
      "        \"type_id\": []\n",
      "    },\n",
      "    \"meta\": {\n",
      "        \"created\": 1545242828280,\n",
      "        \"owner\": \"PP\",\n",
      "        \"timestamp\": {\n",
      "            \"updatedAt\": 1597910340625\n",
      "        },\n",
      "        \"updated\": 1545242828280\n",
      "    }\n",
      "}\n"
     ]
    }
   ],
   "source": [
    "## From the Read and print JSON file in JSON format previous steps,\n",
    "\n",
    "# Also equivalent to what obtained by the queries below (opening the existing JSON file for loading into a variable)\n",
    "#with open('data/data-pantapa_bson2json/stations.json') as json_file:\n",
    "#  stations = json.load(json_file)\n",
    "\n",
    "## Let's print pretty JSON data\n",
    "print(json.dumps(stations, indent=4, sort_keys=True))"
   ]
  },
  {
   "cell_type": "markdown",
   "metadata": {},
   "source": [
    "As usual, let's look closer at the data"
   ]
  },
  {
   "cell_type": "code",
   "execution_count": 87,
   "metadata": {},
   "outputs": [
    {
     "name": "stdout",
     "output_type": "stream",
     "text": [
      "Borgarfjordsgatan 8, 164 40 Kista, Sweden\n"
     ]
    }
   ],
   "source": [
    "print(stations['data']['address'])"
   ]
  },
  {
   "cell_type": "code",
   "execution_count": 89,
   "metadata": {},
   "outputs": [
    {
     "name": "stdout",
     "output_type": "stream",
     "text": [
      "[17.9472797, 59.4067509]\n"
     ]
    }
   ],
   "source": [
    "print(stations['data']['location']['point_type'])"
   ]
  },
  {
   "cell_type": "markdown",
   "metadata": {},
   "source": [
    "Lat = 59.4067509, Long = 17.9472797\n",
    "![station1](img/Latitude-Longitude_Point1.png)"
   ]
  },
  {
   "cell_type": "code",
   "execution_count": 91,
   "metadata": {},
   "outputs": [
    {
     "name": "stdout",
     "output_type": "stream",
     "text": [
      "STATION\n"
     ]
    }
   ],
   "source": [
    "print(stations['data']['point_type'])"
   ]
  },
  {
   "cell_type": "code",
   "execution_count": 92,
   "metadata": {},
   "outputs": [
    {
     "name": "stdout",
     "output_type": "stream",
     "text": [
      "100\n"
     ]
    }
   ],
   "source": [
    "print(stations['data']['scan_distance'])"
   ]
  },
  {
   "cell_type": "code",
   "execution_count": 93,
   "metadata": {},
   "outputs": [
    {
     "name": "stdout",
     "output_type": "stream",
     "text": [
      "Eriksson - Nilsson\n"
     ]
    }
   ],
   "source": [
    "print(stations['data']['store'])"
   ]
  },
  {
   "cell_type": "code",
   "execution_count": 98,
   "metadata": {},
   "outputs": [
    {
     "name": "stdout",
     "output_type": "stream",
     "text": [
      "1443409920\n"
     ]
    }
   ],
   "source": [
    "print(organizations['_id']['machine'])"
   ]
  },
  {
   "cell_type": "code",
   "execution_count": 130,
   "metadata": {},
   "outputs": [
    {
     "name": "stdout",
     "output_type": "stream",
     "text": [
      "Ika\n"
     ]
    }
   ],
   "source": [
    "print(organizations['data']['name'])"
   ]
  },
  {
   "cell_type": "markdown",
   "metadata": {},
   "source": [
    "***\n",
    "<code>As datasets do not have significant numbers of products to visualize, extract patterns and/or predict future behaviours (such as articles often bought, i.e scanned, together), we will do the predictive analytics work on a dummy dataset of choice. For this purpose, we will put ourselves in the situation where ALL products are scannable. The method of choice we will implement is call <b>Market Basket Analysis<b></code>\n",
    "<br>"
   ]
  },
  {
   "cell_type": "markdown",
   "metadata": {},
   "source": [
    "## Market Basket Analysis (MBA)"
   ]
  },
  {
   "cell_type": "markdown",
   "metadata": {},
   "source": [
    "In a first part, we will briefly explain the MBA basics and illustrate it with a case study of items scanned in a supermarket. In the second part we will implement this technique in python language programming using public [dataset](https://raw.githubusercontent.com/limchiahooi/market-basket-analysis/master/BreadBasket_DMS.csv) from model some source coded on github.<br>\n",
    "Alternatively, this other [dataset](https://raw.githubusercontent.com/Mwamburi/GroceryStore/master/Market_Basket_Optimisation.csv) can be used for a more visual analysis.<br>\n",
    "References at the end of this project."
   ]
  },
  {
   "cell_type": "markdown",
   "metadata": {},
   "source": [
    "![basket](https://i.imgur.com/Opyn1vo.png)\n",
    "[source](https://i.imgur.com/Opyn1vo.png)"
   ]
  },
  {
   "cell_type": "markdown",
   "metadata": {},
   "source": [
    "***\n",
    "# <a name=\"understanding-mba\">Understanding MBA</a> \n",
    " In this hypothetical case study, we are going to use the **Apriori algorithm** for frequent pattern mining to perform a Market Basket Analysis. Following sources ([Xavier Vivancos García](https://www.kaggle.com/xvivancos/market-basket-analysis)), \"MBA is a technique used by large retailers to *uncover associations between items*. It works by looking for combinations of items that occur together frequently in transactions, providing information to understand the purchase behavior. The outcome of this type of technique is, in simple terms, a set of rules that can be understood as “if this, then that”.\" \n",
    "\n",
    " Additional sources ([limchiahooi](https://github.com/limchiahooi/market-basket-analysis)), define \"Market basket analysis (MBA), also known as **association-rule mining**, as a method of discovering *customer purchasing patterns* by extracting *associations or co-occurrences* from stores' transactional databases.  It is a modelling technique based upon the theory that if you buy a certain group of items, you are more (or less) likely to buy another group of items. For example, if you are in a supermarket and you buy a loaf of Bread, you are more likely to buy a packet of Butter at the same time than somebody who didn't buy the Bread. (...)\" <br>\n",
    " Same principle can in theory be applied to *scanned items* -- as the scanning process is an integrated part of the purchasing process."
   ]
  },
  {
   "cell_type": "markdown",
   "metadata": {},
   "source": [
    "***\n",
    "### Applications ###\n",
    "There are many real-life applications of MBA:\n",
    "- **Recommendation engine** – showing related products as \"Customers Who Bought This Item Also Bought\" or “Frequently bought together” (as shown in the Amazon example above). It can also be applied to recommend videos and news article by analyzing the videos or news articles that are often watched or read together in a user session.\n",
    "<br>\n",
    "<br>\n",
    "- **Cross-sell / bundle products** – selling associated products as a \"bundle\" instead of individual items. For example, transaction data may show that customers often buy a new phone with screen protector together. Phone retailers can then package new phone with high-margin screen protector together and sell them as a bundle, thereby increasing their sales.\n",
    "<br>\n",
    "<br>\n",
    "- **Arrangement of items in retail stores** – associated items can be placed closer to each other, thereby invoking \"impulse buying\". For example it may be uncovered that customers who buy Barbie dolls also buy candy at the same time. Thus retailers can place high-margin candy near Barbie doll display, thereby tempting customers to buy them together.\n",
    "<br>\n",
    "<br>\n",
    "Etc.\n"
   ]
  },
  {
   "cell_type": "markdown",
   "metadata": {},
   "source": [
    "***\n",
    "### Case Study ###\n",
    "We are analyzing the hypothetic scanning case of two items – Bread and Butter. We want to know if there is any evidence that suggests that scanning Bread leads to scanning Butter. Note. We will often replace scanning by transaction, interchangeably.\n",
    "\n",
    "**Problem Statment:** Is the pscanning of Bread leads to the scanning of Butter?<br><br>\n",
    "**Hypothesis:** There is significant evidence to show that scanning Bread leads to scanning Butter. (As much as buying Bread leads to buying Butter)\n",
    "\n",
    "\n",
    "Bread => Butter\n",
    "\n",
    "Antecedent => Consequent\n",
    "\n",
    "Let's consider a supermarket which generates **1,000 transactions monthly**, of which **Bread was purchased in 150 transactions, Butter in 130 transactions, and both together in 50 transactions**.\n",
    "\n"
   ]
  },
  {
   "cell_type": "markdown",
   "metadata": {},
   "source": [
    "### Analysis and Findings ###\n",
    "We can use MBA to extract the association rule between Bread and Butter. There are *three metrics* or criteria to evaluate the strength or quality of an association rule, which are **support**, **confidence** and **lift**. (*Convictions* is an additional metric used in some cases)<br>\n",
    "More about this [here](https://medium.com/datadriveninvestor/product-recommendation-using-association-rule-mining-for-a-grocery-store-7e7feb6cd0f9)\n",
    "\n",
    "In short,\n",
    "- Support measures the percentage of transactions containing a particular combination of items relative to the total number of transactions. <br>In our example: *Support (antecedent (Bread) and consequent (Butter)) = Number of transactions having both items / Total transactions*. <br>Result: **The support value of 5% means 5% of all transactions have this combination of Bread and Butter scanned together**. Since the value is above the threshold of 1%, it shows there is indeed **support** for this association and thus *satisfy the first criteria*.\n",
    "![alt text](img/support.jpg \"Support\")\n",
    "\n",
    "- Confidence measures the probability of finding a particular combination of items whenever antecedent is bought. <br> *Confidence (antecedent i.e. Bread and consequent i.e. Butter) = P (Consequent (Butter) is bought GIVEN antecedent (Bread) is bought)*. <br> Result: **The confidence value of 33.3% is above the threshold of 25%**, indicating we can be **confident** that Butter will be scanned whenever Bread is scanned, and thus *satisfy the second criteria*.\n",
    "![alt text](img/confidence.jpg \"Confidence\")\n",
    "\n",
    "- Lift is a metric to determine how much the transaction between antecedent and consequent influence each other. <br>We want to know which is higher, P(Butter) or P(Butter / Bread)? (Conditional probabilities) If the scanning of Butter is influenced by the one of Bread, then the *ratio of P(Butter / Bread) over P(Butter) > 1*.<br> Result: **The lift value of 2.56 is greater than 1**, thus that the transaction for Butter is indeed **influenced** by the one for Bread which *satisfy the third criteria*. This also means that Bread's transaction lifts the Butter's purchase by 2.56 times.\n"
   ]
  },
  {
   "cell_type": "markdown",
   "metadata": {},
   "source": [
    "***\n",
    "### Takeaways ###\n",
    "Based on the findings above, we\n",
    "\n",
    "    a) Have the support of 5% transactions for Bread and Butter in the same basket\n",
    "    b) Have 33.3% confidence that Butter scan happen whenever Bread is scanned.\n",
    "    c) Know the lift in Butter's transaction is 2.56 times more whenever Bread is involved than when Butter is alone.\n",
    "\n",
    "Therefore, we can justify our initial hypothesis by concluding that there is indeed evidence to suggest that the *transaction for Bread leads to the one for Butter*. This is a valuable insight to guide decision-making.\n",
    "<br>Actions forward could be, among other things, for retail stores to start placing bread and butter close to each other, knowing that customers are highly likely to \"impulsively\" scanned (and ultimately purchase) them together."
   ]
  },
  {
   "cell_type": "markdown",
   "metadata": {},
   "source": [
    "***\n",
    "## <a name=\"implementation-in-python\">Implementation in Python</a> ##\n",
    "On a large dataset, leveraging on Python libraries for a ready-made algorithm is more efficient than the use of traditional Ms Excel to calculate support, confidence and lifts. Furthermore, as the popular scikit-learn library does not allow us to apply *Apriori algorithm* for extracting frequent item sets for further analysis, because not supported this algorithm, we use another library instead: [MLxtend (machine learning extensions)](http://rasbt.github.io/mlxtend/) by Sebastian Raschka. [Chris Moffitt](http://pbpython.com/market-basket-analysis.html) also provides a tutorial on using MLxtend.\n"
   ]
  },
  {
   "cell_type": "markdown",
   "metadata": {},
   "source": [
    "Note. If you are using Jupyter Notebook, the MLxtend library does not come pre-installed with Anaconda (which I am using right now). You can easily install this package with conda by running one of the following in your Anaconda Prompt:<br><br>\n",
    "`conda install -c conda-forge mlxtend`<br>\n",
    "`conda install -c conda-forge/label/gcc7 mlxtend`<br><br>\n",
    "Or with pip:<br><br>\n",
    "`!pip install mlxtend`<br>(\"!\" if cell ran from the notebook)"
   ]
  },
  {
   "cell_type": "markdown",
   "metadata": {},
   "source": [
    "### Dataset\n",
    "The [dataset](https://github.com/dnzengou/pantapa/data/MBA/MBA.csv) we are using in the case study in this is inspired from a publicly available one initially from Kaggle, now hosted on [github](https://github.com/limchiahooi/market-basket-analysis/blob/master/BreadBasket_DMS.csv) which contains the Transactions data from a bakery from 30/10/2016 to 09/04/2017. The original data belongs to a real bakery called \"The Bread Basket\" that serves coffee, bread, muffin, cookies etc. located in the historic center of Edinburgh.\n",
    "<br>\n",
    "<br>"
   ]
  },
  {
   "cell_type": "markdown",
   "metadata": {},
   "source": [
    "### Import libraries"
   ]
  },
  {
   "cell_type": "code",
   "execution_count": 133,
   "metadata": {},
   "outputs": [],
   "source": [
    "#!pip install mlxtend"
   ]
  },
  {
   "cell_type": "code",
   "execution_count": 1,
   "metadata": {},
   "outputs": [],
   "source": [
    "# import the libraries required\n",
    "%matplotlib inline\n",
    "import numpy as np \n",
    "import pandas as pd\n",
    "import matplotlib.pyplot as plt\n",
    "from mlxtend.frequent_patterns import apriori\n",
    "from mlxtend.frequent_patterns import association_rules"
   ]
  },
  {
   "cell_type": "markdown",
   "metadata": {},
   "source": [
    "### Load data"
   ]
  },
  {
   "cell_type": "code",
   "execution_count": 2,
   "metadata": {},
   "outputs": [
    {
     "data": {
      "text/html": [
       "<div>\n",
       "<style scoped>\n",
       "    .dataframe tbody tr th:only-of-type {\n",
       "        vertical-align: middle;\n",
       "    }\n",
       "\n",
       "    .dataframe tbody tr th {\n",
       "        vertical-align: top;\n",
       "    }\n",
       "\n",
       "    .dataframe thead th {\n",
       "        text-align: right;\n",
       "    }\n",
       "</style>\n",
       "<table border=\"1\" class=\"dataframe\">\n",
       "  <thead>\n",
       "    <tr style=\"text-align: right;\">\n",
       "      <th></th>\n",
       "      <th>Date</th>\n",
       "      <th>Time</th>\n",
       "      <th>Scanned</th>\n",
       "      <th>Item</th>\n",
       "    </tr>\n",
       "  </thead>\n",
       "  <tbody>\n",
       "    <tr>\n",
       "      <th>0</th>\n",
       "      <td>2016-10-30</td>\n",
       "      <td>09:58:11</td>\n",
       "      <td>1</td>\n",
       "      <td>Bread</td>\n",
       "    </tr>\n",
       "    <tr>\n",
       "      <th>1</th>\n",
       "      <td>2016-10-30</td>\n",
       "      <td>10:05:34</td>\n",
       "      <td>2</td>\n",
       "      <td>Scandinavian</td>\n",
       "    </tr>\n",
       "    <tr>\n",
       "      <th>2</th>\n",
       "      <td>2016-10-30</td>\n",
       "      <td>10:05:34</td>\n",
       "      <td>2</td>\n",
       "      <td>Scandinavian</td>\n",
       "    </tr>\n",
       "    <tr>\n",
       "      <th>3</th>\n",
       "      <td>2016-10-30</td>\n",
       "      <td>10:07:57</td>\n",
       "      <td>3</td>\n",
       "      <td>Hot chocolate</td>\n",
       "    </tr>\n",
       "    <tr>\n",
       "      <th>4</th>\n",
       "      <td>2016-10-30</td>\n",
       "      <td>10:07:57</td>\n",
       "      <td>3</td>\n",
       "      <td>Jam</td>\n",
       "    </tr>\n",
       "  </tbody>\n",
       "</table>\n",
       "</div>"
      ],
      "text/plain": [
       "         Date      Time  Scanned           Item\n",
       "0  2016-10-30  09:58:11        1          Bread\n",
       "1  2016-10-30  10:05:34        2   Scandinavian\n",
       "2  2016-10-30  10:05:34        2   Scandinavian\n",
       "3  2016-10-30  10:07:57        3  Hot chocolate\n",
       "4  2016-10-30  10:07:57        3            Jam"
      ]
     },
     "execution_count": 2,
     "metadata": {},
     "output_type": "execute_result"
    }
   ],
   "source": [
    "# load the data into a pandas dataframe (df) and take a look at the first 10 rows\n",
    "df = pd.read_csv(\"https://raw.githubusercontent.com/limchiahooi/market-basket-analysis/master/BreadBasket_DMS.csv\")\n",
    "\n",
    "# Let's rename Transaction column with Scanned just to be more representative of our thought experiment\n",
    "df_new = df.rename(columns={'Transaction': 'Scanned'})\n",
    "\n",
    "df_new.head(5)"
   ]
  },
  {
   "cell_type": "code",
   "execution_count": 3,
   "metadata": {},
   "outputs": [
    {
     "data": {
      "text/html": [
       "<div>\n",
       "<style scoped>\n",
       "    .dataframe tbody tr th:only-of-type {\n",
       "        vertical-align: middle;\n",
       "    }\n",
       "\n",
       "    .dataframe tbody tr th {\n",
       "        vertical-align: top;\n",
       "    }\n",
       "\n",
       "    .dataframe thead th {\n",
       "        text-align: right;\n",
       "    }\n",
       "</style>\n",
       "<table border=\"1\" class=\"dataframe\">\n",
       "  <thead>\n",
       "    <tr style=\"text-align: right;\">\n",
       "      <th></th>\n",
       "      <th>Scanned</th>\n",
       "      <th>Item</th>\n",
       "    </tr>\n",
       "    <tr>\n",
       "      <th>Datetime</th>\n",
       "      <th></th>\n",
       "      <th></th>\n",
       "    </tr>\n",
       "  </thead>\n",
       "  <tbody>\n",
       "    <tr>\n",
       "      <th>2016-10-30 09:58:11</th>\n",
       "      <td>1</td>\n",
       "      <td>Bread</td>\n",
       "    </tr>\n",
       "    <tr>\n",
       "      <th>2016-10-30 10:05:34</th>\n",
       "      <td>2</td>\n",
       "      <td>Scandinavian</td>\n",
       "    </tr>\n",
       "    <tr>\n",
       "      <th>2016-10-30 10:05:34</th>\n",
       "      <td>2</td>\n",
       "      <td>Scandinavian</td>\n",
       "    </tr>\n",
       "    <tr>\n",
       "      <th>2016-10-30 10:07:57</th>\n",
       "      <td>3</td>\n",
       "      <td>Hot chocolate</td>\n",
       "    </tr>\n",
       "    <tr>\n",
       "      <th>2016-10-30 10:07:57</th>\n",
       "      <td>3</td>\n",
       "      <td>Jam</td>\n",
       "    </tr>\n",
       "    <tr>\n",
       "      <th>2016-10-30 10:07:57</th>\n",
       "      <td>3</td>\n",
       "      <td>Cookies</td>\n",
       "    </tr>\n",
       "    <tr>\n",
       "      <th>2016-10-30 10:08:41</th>\n",
       "      <td>4</td>\n",
       "      <td>Muffin</td>\n",
       "    </tr>\n",
       "    <tr>\n",
       "      <th>2016-10-30 10:13:03</th>\n",
       "      <td>5</td>\n",
       "      <td>Coffee</td>\n",
       "    </tr>\n",
       "    <tr>\n",
       "      <th>2016-10-30 10:13:03</th>\n",
       "      <td>5</td>\n",
       "      <td>Pastry</td>\n",
       "    </tr>\n",
       "    <tr>\n",
       "      <th>2016-10-30 10:13:03</th>\n",
       "      <td>5</td>\n",
       "      <td>Bread</td>\n",
       "    </tr>\n",
       "  </tbody>\n",
       "</table>\n",
       "</div>"
      ],
      "text/plain": [
       "                     Scanned           Item\n",
       "Datetime                                   \n",
       "2016-10-30 09:58:11        1          Bread\n",
       "2016-10-30 10:05:34        2   Scandinavian\n",
       "2016-10-30 10:05:34        2   Scandinavian\n",
       "2016-10-30 10:07:57        3  Hot chocolate\n",
       "2016-10-30 10:07:57        3            Jam\n",
       "2016-10-30 10:07:57        3        Cookies\n",
       "2016-10-30 10:08:41        4         Muffin\n",
       "2016-10-30 10:13:03        5         Coffee\n",
       "2016-10-30 10:13:03        5         Pastry\n",
       "2016-10-30 10:13:03        5          Bread"
      ]
     },
     "execution_count": 3,
     "metadata": {},
     "output_type": "execute_result"
    }
   ],
   "source": [
    "# Date and Time are encoded in 'object' instead of Datetime\n",
    "df_new['Datetime'] = pd.to_datetime(df_new['Date']+' '+df_new['Time'])\n",
    "\n",
    "df_new = df_new[[\"Datetime\", \"Scanned\", \"Item\"]].set_index(\"Datetime\")\n",
    "\n",
    "df_new.head(10)"
   ]
  },
  {
   "cell_type": "markdown",
   "metadata": {},
   "source": [
    "We have combined the Date and Time columns into a single Datetime column, convert it into datetime64 type, then set it as DatetimeIndex. This will make it easier to plot the time series charts."
   ]
  },
  {
   "cell_type": "code",
   "execution_count": 4,
   "metadata": {},
   "outputs": [
    {
     "data": {
      "text/plain": [
       "(21293, 2)"
      ]
     },
     "execution_count": 4,
     "metadata": {},
     "output_type": "execute_result"
    }
   ],
   "source": [
    "# let's check the shape of the dataset.\n",
    "## 18768 rows and 2 columns\n",
    "df_new.shape"
   ]
  },
  {
   "cell_type": "code",
   "execution_count": 5,
   "metadata": {},
   "outputs": [
    {
     "data": {
      "text/html": [
       "<div>\n",
       "<style scoped>\n",
       "    .dataframe tbody tr th:only-of-type {\n",
       "        vertical-align: middle;\n",
       "    }\n",
       "\n",
       "    .dataframe tbody tr th {\n",
       "        vertical-align: top;\n",
       "    }\n",
       "\n",
       "    .dataframe thead th {\n",
       "        text-align: right;\n",
       "    }\n",
       "</style>\n",
       "<table border=\"1\" class=\"dataframe\">\n",
       "  <thead>\n",
       "    <tr style=\"text-align: right;\">\n",
       "      <th></th>\n",
       "      <th>Scanned</th>\n",
       "    </tr>\n",
       "  </thead>\n",
       "  <tbody>\n",
       "    <tr>\n",
       "      <th>count</th>\n",
       "      <td>21293.000000</td>\n",
       "    </tr>\n",
       "    <tr>\n",
       "      <th>mean</th>\n",
       "      <td>4951.990889</td>\n",
       "    </tr>\n",
       "    <tr>\n",
       "      <th>std</th>\n",
       "      <td>2787.758400</td>\n",
       "    </tr>\n",
       "    <tr>\n",
       "      <th>min</th>\n",
       "      <td>1.000000</td>\n",
       "    </tr>\n",
       "    <tr>\n",
       "      <th>25%</th>\n",
       "      <td>2548.000000</td>\n",
       "    </tr>\n",
       "    <tr>\n",
       "      <th>50%</th>\n",
       "      <td>5067.000000</td>\n",
       "    </tr>\n",
       "    <tr>\n",
       "      <th>75%</th>\n",
       "      <td>7329.000000</td>\n",
       "    </tr>\n",
       "    <tr>\n",
       "      <th>max</th>\n",
       "      <td>9684.000000</td>\n",
       "    </tr>\n",
       "  </tbody>\n",
       "</table>\n",
       "</div>"
      ],
      "text/plain": [
       "            Scanned\n",
       "count  21293.000000\n",
       "mean    4951.990889\n",
       "std     2787.758400\n",
       "min        1.000000\n",
       "25%     2548.000000\n",
       "50%     5067.000000\n",
       "75%     7329.000000\n",
       "max     9684.000000"
      ]
     },
     "execution_count": 5,
     "metadata": {},
     "output_type": "execute_result"
    }
   ],
   "source": [
    "df_new.describe()"
   ]
  },
  {
   "cell_type": "code",
   "execution_count": 6,
   "metadata": {},
   "outputs": [
    {
     "name": "stdout",
     "output_type": "stream",
     "text": [
      "There are 786 missing values in the dataframe.\n"
     ]
    },
    {
     "data": {
      "text/html": [
       "<div>\n",
       "<style scoped>\n",
       "    .dataframe tbody tr th:only-of-type {\n",
       "        vertical-align: middle;\n",
       "    }\n",
       "\n",
       "    .dataframe tbody tr th {\n",
       "        vertical-align: top;\n",
       "    }\n",
       "\n",
       "    .dataframe thead th {\n",
       "        text-align: right;\n",
       "    }\n",
       "</style>\n",
       "<table border=\"1\" class=\"dataframe\">\n",
       "  <thead>\n",
       "    <tr style=\"text-align: right;\">\n",
       "      <th></th>\n",
       "      <th>Scanned</th>\n",
       "      <th>Item</th>\n",
       "    </tr>\n",
       "    <tr>\n",
       "      <th>Datetime</th>\n",
       "      <th></th>\n",
       "      <th></th>\n",
       "    </tr>\n",
       "  </thead>\n",
       "  <tbody>\n",
       "    <tr>\n",
       "      <th>2016-10-30 10:27:21</th>\n",
       "      <td>11</td>\n",
       "      <td>NONE</td>\n",
       "    </tr>\n",
       "    <tr>\n",
       "      <th>2016-10-30 10:34:36</th>\n",
       "      <td>15</td>\n",
       "      <td>NONE</td>\n",
       "    </tr>\n",
       "    <tr>\n",
       "      <th>2016-10-30 10:34:36</th>\n",
       "      <td>15</td>\n",
       "      <td>NONE</td>\n",
       "    </tr>\n",
       "    <tr>\n",
       "      <th>2016-10-30 11:05:30</th>\n",
       "      <td>29</td>\n",
       "      <td>NONE</td>\n",
       "    </tr>\n",
       "    <tr>\n",
       "      <th>2016-10-30 11:37:10</th>\n",
       "      <td>37</td>\n",
       "      <td>NONE</td>\n",
       "    </tr>\n",
       "  </tbody>\n",
       "</table>\n",
       "</div>"
      ],
      "text/plain": [
       "                     Scanned  Item\n",
       "Datetime                          \n",
       "2016-10-30 10:27:21       11  NONE\n",
       "2016-10-30 10:34:36       15  NONE\n",
       "2016-10-30 10:34:36       15  NONE\n",
       "2016-10-30 11:05:30       29  NONE\n",
       "2016-10-30 11:37:10       37  NONE"
      ]
     },
     "execution_count": 6,
     "metadata": {},
     "output_type": "execute_result"
    }
   ],
   "source": [
    "missing_value = [\"NaN\", \"NONE\", \"None\", \"Nil\", \"nan\", \"none\", \"nil\", 0]\n",
    "\n",
    "print(\"There are {} missing values in the dataframe.\".format(len(df_new[df_new.Item.isin(missing_value)])))\n",
    "df_new[df_new.Item.isin(missing_value)].head(5)"
   ]
  },
  {
   "cell_type": "markdown",
   "metadata": {},
   "source": [
    "Since the items (NONE) are not recorded, we will have to remove these rows."
   ]
  },
  {
   "cell_type": "code",
   "execution_count": 7,
   "metadata": {},
   "outputs": [
    {
     "name": "stdout",
     "output_type": "stream",
     "text": [
      "Number of rows: 18768\n"
     ]
    },
    {
     "data": {
      "text/html": [
       "<div>\n",
       "<style scoped>\n",
       "    .dataframe tbody tr th:only-of-type {\n",
       "        vertical-align: middle;\n",
       "    }\n",
       "\n",
       "    .dataframe tbody tr th {\n",
       "        vertical-align: top;\n",
       "    }\n",
       "\n",
       "    .dataframe thead th {\n",
       "        text-align: right;\n",
       "    }\n",
       "</style>\n",
       "<table border=\"1\" class=\"dataframe\">\n",
       "  <thead>\n",
       "    <tr style=\"text-align: right;\">\n",
       "      <th></th>\n",
       "      <th>Scanned</th>\n",
       "      <th>Item</th>\n",
       "    </tr>\n",
       "    <tr>\n",
       "      <th>Datetime</th>\n",
       "      <th></th>\n",
       "      <th></th>\n",
       "    </tr>\n",
       "  </thead>\n",
       "  <tbody>\n",
       "    <tr>\n",
       "      <th>2016-10-30 09:58:11</th>\n",
       "      <td>1</td>\n",
       "      <td>Bread</td>\n",
       "    </tr>\n",
       "    <tr>\n",
       "      <th>2016-10-30 10:05:34</th>\n",
       "      <td>2</td>\n",
       "      <td>Scandinavian</td>\n",
       "    </tr>\n",
       "    <tr>\n",
       "      <th>2016-10-30 10:05:34</th>\n",
       "      <td>2</td>\n",
       "      <td>Scandinavian</td>\n",
       "    </tr>\n",
       "    <tr>\n",
       "      <th>2016-10-30 10:07:57</th>\n",
       "      <td>3</td>\n",
       "      <td>Hot chocolate</td>\n",
       "    </tr>\n",
       "    <tr>\n",
       "      <th>2016-10-30 10:07:57</th>\n",
       "      <td>3</td>\n",
       "      <td>Jam</td>\n",
       "    </tr>\n",
       "  </tbody>\n",
       "</table>\n",
       "</div>"
      ],
      "text/plain": [
       "                     Scanned           Item\n",
       "Datetime                                   \n",
       "2016-10-30 09:58:11        1          Bread\n",
       "2016-10-30 10:05:34        2   Scandinavian\n",
       "2016-10-30 10:05:34        2   Scandinavian\n",
       "2016-10-30 10:07:57        3  Hot chocolate\n",
       "2016-10-30 10:07:57        3            Jam"
      ]
     },
     "execution_count": 7,
     "metadata": {},
     "output_type": "execute_result"
    }
   ],
   "source": [
    "df_new = df_new.drop(df_new[df_new.Item == \"NONE\"].index)\n",
    "print(\"Number of rows: {}\".format(len(df_new)))\n",
    "\n",
    "df_new.head(5)"
   ]
  },
  {
   "cell_type": "markdown",
   "metadata": {},
   "source": [
    "### Visualization"
   ]
  },
  {
   "cell_type": "code",
   "execution_count": 8,
   "metadata": {
    "scrolled": true
   },
   "outputs": [
    {
     "data": {
      "text/plain": [
       "Coffee           0.264226\n",
       "Bread            0.165974\n",
       "Tea              0.066922\n",
       "Cake             0.052003\n",
       "Pastry           0.043212\n",
       "Sandwich         0.036125\n",
       "Medialuna        0.030744\n",
       "Hot chocolate    0.028186\n",
       "Cookies          0.027227\n",
       "Farm House       0.019288\n",
       "Name: Item, dtype: float64"
      ]
     },
     "execution_count": 8,
     "metadata": {},
     "output_type": "execute_result"
    }
   ],
   "source": [
    "# rank the top 10 best-selling items\n",
    "df_new.Item.value_counts(normalize=True)[:10]"
   ]
  },
  {
   "cell_type": "code",
   "execution_count": 20,
   "metadata": {},
   "outputs": [],
   "source": [
    "## In order to plot a word cloud, without capturing the DateTime index, we drop it and save it into a new dataframe\n",
    "\n",
    "df1 = df_new.reset_index()\n",
    "#df1[[\"Scanned\", \"Item\"]]\n",
    "#df1"
   ]
  },
  {
   "cell_type": "code",
   "execution_count": 18,
   "metadata": {},
   "outputs": [
    {
     "data": {
      "image/png": "[encoded data removed]",
      "text/plain": [
       "<Figure size 1080x1080 with 1 Axes>"
      ]
     },
     "metadata": {
      "needs_background": "light"
     },
     "output_type": "display_data"
    }
   ],
   "source": [
    "## Ploting a word cloud of the most popular items\n",
    "\n",
    "import matplotlib.pyplot as plt\n",
    "import seaborn as sns\n",
    "\n",
    "from wordcloud import WordCloud\n",
    "\n",
    "plt.rcParams['figure.figsize'] = (15, 15)\n",
    "wordcloud = WordCloud(background_color = 'white', width = 800,  height = 800, max_words = 121).generate(str(df1[\"Item\"]))\n",
    "plt.imshow(wordcloud)\n",
    "plt.axis('off')\n",
    "plt.title('Most Popular Items',fontsize = 20)\n",
    "plt.show()"
   ]
  },
  {
   "cell_type": "code",
   "execution_count": 161,
   "metadata": {},
   "outputs": [
    {
     "data": {
      "text/plain": [
       "[Text(0,0.5,'Percentage'), Text(0.5,0,'Item')]"
      ]
     },
     "execution_count": 161,
     "metadata": {},
     "output_type": "execute_result"
    },
    {
     "data": {
      "image/png": "[encoded data removed]",
      "text/plain": [
       "<Figure size 432x288 with 1 Axes>"
      ]
     },
     "metadata": {
      "needs_background": "light"
     },
     "output_type": "display_data"
    }
   ],
   "source": [
    "# create a bar chart, rank by percentage\n",
    "df_new.Item.value_counts(normalize=True)[:10].plot(kind=\"bar\", title=\"Percentage of Scans by Item\").set(xlabel=\"Item\", ylabel=\"Percentage\")"
   ]
  },
  {
   "cell_type": "code",
   "execution_count": 162,
   "metadata": {
    "scrolled": true
   },
   "outputs": [
    {
     "data": {
      "text/plain": [
       "[Text(0,0.5,'Total Number'), Text(0.5,0,'Item')]"
      ]
     },
     "execution_count": 162,
     "metadata": {},
     "output_type": "execute_result"
    },
    {
     "data": {
      "image/png": "[encoded data removed]",
      "text/plain": [
       "<Figure size 432x288 with 1 Axes>"
      ]
     },
     "metadata": {
      "needs_background": "light"
     },
     "output_type": "display_data"
    }
   ],
   "source": [
    "# create a bar chart, rank by value\n",
    "df_new.Item.value_counts()[:10].plot(kind=\"bar\", title=\"Total Number of Scans by Item\").set(xlabel=\"Item\", ylabel=\"Total Number\")"
   ]
  },
  {
   "cell_type": "markdown",
   "metadata": {},
   "source": [
    "From the bar charts above, Coffee (26.7%) is the most popular item in the bakery, then Bread (16.2%) followed with Tea (7.0%)."
   ]
  },
  {
   "cell_type": "code",
   "execution_count": 167,
   "metadata": {
    "scrolled": true
   },
   "outputs": [
    {
     "data": {
      "text/plain": [
       "[Text(0,0.5,'Total Number of Items Scanned'), Text(0.5,0,'Date')]"
      ]
     },
     "execution_count": 167,
     "metadata": {},
     "output_type": "execute_result"
    },
    {
     "data": {
      "image/png": "[encoded data removed]",
      "text/plain": [
       "<Figure size 864x360 with 1 Axes>"
      ]
     },
     "metadata": {
      "needs_background": "light"
     },
     "output_type": "display_data"
    }
   ],
   "source": [
    "# plot time series chart of number of items by day\n",
    "df_new[\"Item\"].resample(\"D\").count().plot(figsize=(12,5), grid=True, title=\"Total Number of Items Sold by Date\").set(xlabel=\"Date\", ylabel=\"Total Number of Items Scanned\")"
   ]
  },
  {
   "cell_type": "markdown",
   "metadata": {},
   "source": [
    "Total Number of Items Scanned by Date fluctuates thoughout the 159 days of the data time frame."
   ]
  },
  {
   "cell_type": "code",
   "execution_count": 168,
   "metadata": {
    "scrolled": true
   },
   "outputs": [
    {
     "data": {
      "text/plain": [
       "[Text(0,0.5,'Total Number of Items Scanned'), Text(0.5,0,'Date')]"
      ]
     },
     "execution_count": 168,
     "metadata": {},
     "output_type": "execute_result"
    },
    {
     "data": {
      "image/png": "[encoded data removed]",
      "text/plain": [
       "<Figure size 864x360 with 1 Axes>"
      ]
     },
     "metadata": {
      "needs_background": "light"
     },
     "output_type": "display_data"
    }
   ],
   "source": [
    "# plot time series chart of number of items by month\n",
    "df_new[\"Item\"].resample(\"M\").count().plot(figsize=(12,5), grid=True, title=\"Total Number by Items Scanned by Month\").set(xlabel=\"Date\", ylabel=\"Total Number of Items Scanned\")"
   ]
  },
  {
   "cell_type": "markdown",
   "metadata": {},
   "source": [
    "The total number of items scanned by month for the five full month between November 2016 to March 2017 does not fluctuate too much."
   ]
  },
  {
   "cell_type": "code",
   "execution_count": 170,
   "metadata": {},
   "outputs": [
    {
     "data": {
      "text/html": [
       "<div>\n",
       "<style scoped>\n",
       "    .dataframe tbody tr th:only-of-type {\n",
       "        vertical-align: middle;\n",
       "    }\n",
       "\n",
       "    .dataframe tbody tr th {\n",
       "        vertical-align: top;\n",
       "    }\n",
       "\n",
       "    .dataframe thead th {\n",
       "        text-align: right;\n",
       "    }\n",
       "</style>\n",
       "<table border=\"1\" class=\"dataframe\">\n",
       "  <thead>\n",
       "    <tr style=\"text-align: right;\">\n",
       "      <th></th>\n",
       "      <th>Scanned</th>\n",
       "      <th>Item</th>\n",
       "      <th>Hour</th>\n",
       "      <th>Weekday</th>\n",
       "    </tr>\n",
       "    <tr>\n",
       "      <th>Datetime</th>\n",
       "      <th></th>\n",
       "      <th></th>\n",
       "      <th></th>\n",
       "      <th></th>\n",
       "    </tr>\n",
       "  </thead>\n",
       "  <tbody>\n",
       "    <tr>\n",
       "      <th>2016-10-30 09:58:11</th>\n",
       "      <td>1</td>\n",
       "      <td>Bread</td>\n",
       "      <td>9</td>\n",
       "      <td>7</td>\n",
       "    </tr>\n",
       "    <tr>\n",
       "      <th>2016-10-30 10:05:34</th>\n",
       "      <td>2</td>\n",
       "      <td>Scandinavian</td>\n",
       "      <td>10</td>\n",
       "      <td>7</td>\n",
       "    </tr>\n",
       "    <tr>\n",
       "      <th>2016-10-30 10:05:34</th>\n",
       "      <td>2</td>\n",
       "      <td>Scandinavian</td>\n",
       "      <td>10</td>\n",
       "      <td>7</td>\n",
       "    </tr>\n",
       "    <tr>\n",
       "      <th>2016-10-30 10:07:57</th>\n",
       "      <td>3</td>\n",
       "      <td>Hot chocolate</td>\n",
       "      <td>10</td>\n",
       "      <td>7</td>\n",
       "    </tr>\n",
       "    <tr>\n",
       "      <th>2016-10-30 10:07:57</th>\n",
       "      <td>3</td>\n",
       "      <td>Jam</td>\n",
       "      <td>10</td>\n",
       "      <td>7</td>\n",
       "    </tr>\n",
       "  </tbody>\n",
       "</table>\n",
       "</div>"
      ],
      "text/plain": [
       "                     Scanned           Item  Hour  Weekday\n",
       "Datetime                                                  \n",
       "2016-10-30 09:58:11        1          Bread     9        7\n",
       "2016-10-30 10:05:34        2   Scandinavian    10        7\n",
       "2016-10-30 10:05:34        2   Scandinavian    10        7\n",
       "2016-10-30 10:07:57        3  Hot chocolate    10        7\n",
       "2016-10-30 10:07:57        3            Jam    10        7"
      ]
     },
     "execution_count": 170,
     "metadata": {},
     "output_type": "execute_result"
    }
   ],
   "source": [
    "# extract hour of the day and weekday of the week\n",
    "# For Datetimeindex, the day of the week with Monday=0, Sunday=6, thereby +1 to become Monday=1, Sunday=7\n",
    "df_new[\"Hour\"] = df_new.index.hour\n",
    "df_new[\"Weekday\"] = df_new.index.weekday + 1\n",
    "\n",
    "df_new.head(5)"
   ]
  },
  {
   "cell_type": "code",
   "execution_count": 171,
   "metadata": {},
   "outputs": [
    {
     "data": {
      "text/html": [
       "<div>\n",
       "<style scoped>\n",
       "    .dataframe tbody tr th:only-of-type {\n",
       "        vertical-align: middle;\n",
       "    }\n",
       "\n",
       "    .dataframe tbody tr th {\n",
       "        vertical-align: top;\n",
       "    }\n",
       "\n",
       "    .dataframe thead th {\n",
       "        text-align: right;\n",
       "    }\n",
       "</style>\n",
       "<table border=\"1\" class=\"dataframe\">\n",
       "  <thead>\n",
       "    <tr style=\"text-align: right;\">\n",
       "      <th></th>\n",
       "      <th>Item</th>\n",
       "    </tr>\n",
       "    <tr>\n",
       "      <th>Hour</th>\n",
       "      <th></th>\n",
       "    </tr>\n",
       "  </thead>\n",
       "  <tbody>\n",
       "    <tr>\n",
       "      <th>1</th>\n",
       "      <td>0.006289</td>\n",
       "    </tr>\n",
       "    <tr>\n",
       "      <th>7</th>\n",
       "      <td>0.144654</td>\n",
       "    </tr>\n",
       "    <tr>\n",
       "      <th>8</th>\n",
       "      <td>3.723270</td>\n",
       "    </tr>\n",
       "    <tr>\n",
       "      <th>9</th>\n",
       "      <td>11.251572</td>\n",
       "    </tr>\n",
       "    <tr>\n",
       "      <th>10</th>\n",
       "      <td>15.276730</td>\n",
       "    </tr>\n",
       "    <tr>\n",
       "      <th>11</th>\n",
       "      <td>17.729560</td>\n",
       "    </tr>\n",
       "    <tr>\n",
       "      <th>12</th>\n",
       "      <td>15.830189</td>\n",
       "    </tr>\n",
       "    <tr>\n",
       "      <th>13</th>\n",
       "      <td>14.415094</td>\n",
       "    </tr>\n",
       "    <tr>\n",
       "      <th>14</th>\n",
       "      <td>15.213836</td>\n",
       "    </tr>\n",
       "    <tr>\n",
       "      <th>15</th>\n",
       "      <td>12.930818</td>\n",
       "    </tr>\n",
       "    <tr>\n",
       "      <th>16</th>\n",
       "      <td>8.232704</td>\n",
       "    </tr>\n",
       "    <tr>\n",
       "      <th>17</th>\n",
       "      <td>2.238994</td>\n",
       "    </tr>\n",
       "    <tr>\n",
       "      <th>18</th>\n",
       "      <td>0.515723</td>\n",
       "    </tr>\n",
       "    <tr>\n",
       "      <th>19</th>\n",
       "      <td>0.301887</td>\n",
       "    </tr>\n",
       "    <tr>\n",
       "      <th>20</th>\n",
       "      <td>0.138365</td>\n",
       "    </tr>\n",
       "    <tr>\n",
       "      <th>21</th>\n",
       "      <td>0.018868</td>\n",
       "    </tr>\n",
       "    <tr>\n",
       "      <th>22</th>\n",
       "      <td>0.050314</td>\n",
       "    </tr>\n",
       "    <tr>\n",
       "      <th>23</th>\n",
       "      <td>0.018868</td>\n",
       "    </tr>\n",
       "  </tbody>\n",
       "</table>\n",
       "</div>"
      ],
      "text/plain": [
       "           Item\n",
       "Hour           \n",
       "1      0.006289\n",
       "7      0.144654\n",
       "8      3.723270\n",
       "9     11.251572\n",
       "10    15.276730\n",
       "11    17.729560\n",
       "12    15.830189\n",
       "13    14.415094\n",
       "14    15.213836\n",
       "15    12.930818\n",
       "16     8.232704\n",
       "17     2.238994\n",
       "18     0.515723\n",
       "19     0.301887\n",
       "20     0.138365\n",
       "21     0.018868\n",
       "22     0.050314\n",
       "23     0.018868"
      ]
     },
     "execution_count": 171,
     "metadata": {},
     "output_type": "execute_result"
    }
   ],
   "source": [
    "df_new_groupby_hour = df_new.groupby(\"Hour\").agg({\"Item\": lambda item: item.count()/total_days})\n",
    "df_new_groupby_hour"
   ]
  },
  {
   "cell_type": "code",
   "execution_count": 172,
   "metadata": {},
   "outputs": [
    {
     "data": {
      "text/plain": [
       "[Text(0,0.5,'Average Number of Items Scanned'),\n",
       " Text(0.5,0,'Hour of the Day (24 hour time)')]"
      ]
     },
     "execution_count": 172,
     "metadata": {},
     "output_type": "execute_result"
    },
    {
     "data": {
      "image/png": "[encoded data removed]",
      "text/plain": [
       "<Figure size 864x360 with 1 Axes>"
      ]
     },
     "metadata": {
      "needs_background": "light"
     },
     "output_type": "display_data"
    }
   ],
   "source": [
    "# plot the chart\n",
    "df_new_groupby_hour.plot(y=\"Item\", figsize=(12,5), title=\"Average Number by Items Scanned by Hour of the Day\").set(xlabel=\"Hour of the Day (24 hour time)\", ylabel=\"Average Number of Items Scanned\")"
   ]
  },
  {
   "cell_type": "markdown",
   "metadata": {},
   "source": [
    "It appears that most of the sales transactions took place during the lunch hours of the day."
   ]
  },
  {
   "cell_type": "code",
   "execution_count": 173,
   "metadata": {},
   "outputs": [
    {
     "data": {
      "text/html": [
       "<div>\n",
       "<style scoped>\n",
       "    .dataframe tbody tr th:only-of-type {\n",
       "        vertical-align: middle;\n",
       "    }\n",
       "\n",
       "    .dataframe tbody tr th {\n",
       "        vertical-align: top;\n",
       "    }\n",
       "\n",
       "    .dataframe thead th {\n",
       "        text-align: right;\n",
       "    }\n",
       "</style>\n",
       "<table border=\"1\" class=\"dataframe\">\n",
       "  <thead>\n",
       "    <tr style=\"text-align: right;\">\n",
       "      <th></th>\n",
       "      <th>Item</th>\n",
       "    </tr>\n",
       "    <tr>\n",
       "      <th>Weekday</th>\n",
       "      <th></th>\n",
       "    </tr>\n",
       "  </thead>\n",
       "  <tbody>\n",
       "    <tr>\n",
       "      <th>1</th>\n",
       "      <td>2196</td>\n",
       "    </tr>\n",
       "    <tr>\n",
       "      <th>2</th>\n",
       "      <td>2261</td>\n",
       "    </tr>\n",
       "    <tr>\n",
       "      <th>3</th>\n",
       "      <td>2099</td>\n",
       "    </tr>\n",
       "    <tr>\n",
       "      <th>4</th>\n",
       "      <td>2485</td>\n",
       "    </tr>\n",
       "    <tr>\n",
       "      <th>5</th>\n",
       "      <td>2931</td>\n",
       "    </tr>\n",
       "    <tr>\n",
       "      <th>6</th>\n",
       "      <td>4098</td>\n",
       "    </tr>\n",
       "    <tr>\n",
       "      <th>7</th>\n",
       "      <td>2698</td>\n",
       "    </tr>\n",
       "  </tbody>\n",
       "</table>\n",
       "</div>"
      ],
      "text/plain": [
       "         Item\n",
       "Weekday      \n",
       "1        2196\n",
       "2        2261\n",
       "3        2099\n",
       "4        2485\n",
       "5        2931\n",
       "6        4098\n",
       "7        2698"
      ]
     },
     "execution_count": 173,
     "metadata": {},
     "output_type": "execute_result"
    }
   ],
   "source": [
    "# sales groupby weekday\n",
    "df_new_groupby_weekday = df_new.groupby(\"Weekday\").agg({\"Item\": lambda item: item.count()})\n",
    "df_new_groupby_weekday"
   ]
  },
  {
   "cell_type": "code",
   "execution_count": 174,
   "metadata": {},
   "outputs": [
    {
     "name": "stdout",
     "output_type": "stream",
     "text": [
      "monday = 21, tuesday = 23, wednesday = 23, thursday = 23, friday = 23, saturday = 23, sunday = 23, total = 159\n"
     ]
    }
   ],
   "source": [
    "# but we need to find out how many each weekday in that period of transaction\n",
    "# in order to calculate the average items per weekday\n",
    "\n",
    "import datetime \n",
    "daterange = pd.date_range(datetime.date(2016, 10, 30), datetime.date(2017, 4, 9))\n",
    "\n",
    "monday = 0\n",
    "tuesday = 0\n",
    "wednesday = 0\n",
    "thursday = 0\n",
    "friday = 0\n",
    "saturday = 0\n",
    "sunday = 0\n",
    "\n",
    "for day in np.unique(df_new.index.date):\n",
    "    if day.isoweekday() == 1:\n",
    "        monday += 1\n",
    "    elif day.isoweekday() == 2:\n",
    "        tuesday += 1\n",
    "    elif day.isoweekday() == 3:\n",
    "        wednesday += 1\n",
    "    elif day.isoweekday() == 4:\n",
    "        thursday += 1        \n",
    "    elif day.isoweekday() == 5:\n",
    "        friday += 1        \n",
    "    elif day.isoweekday() == 6:\n",
    "        saturday += 1        \n",
    "    elif day.isoweekday() == 7:\n",
    "        sunday += 1        \n",
    "        \n",
    "all_weekdays = monday + tuesday + wednesday + thursday + friday + saturday + sunday\n",
    "\n",
    "print(\"monday = {0}, tuesday = {1}, wednesday = {2}, thursday = {3}, friday = {4}, saturday = {5}, sunday = {6}, total = {7}\".format(monday, tuesday, wednesday, thursday, friday, saturday, sunday, all_weekdays))"
   ]
  },
  {
   "cell_type": "code",
   "execution_count": 176,
   "metadata": {},
   "outputs": [
    {
     "data": {
      "text/html": [
       "<div>\n",
       "<style scoped>\n",
       "    .dataframe tbody tr th:only-of-type {\n",
       "        vertical-align: middle;\n",
       "    }\n",
       "\n",
       "    .dataframe tbody tr th {\n",
       "        vertical-align: top;\n",
       "    }\n",
       "\n",
       "    .dataframe thead th {\n",
       "        text-align: right;\n",
       "    }\n",
       "</style>\n",
       "<table border=\"1\" class=\"dataframe\">\n",
       "  <thead>\n",
       "    <tr style=\"text-align: right;\">\n",
       "      <th></th>\n",
       "      <th>Item</th>\n",
       "      <th>Average</th>\n",
       "    </tr>\n",
       "    <tr>\n",
       "      <th>Weekday</th>\n",
       "      <th></th>\n",
       "      <th></th>\n",
       "    </tr>\n",
       "  </thead>\n",
       "  <tbody>\n",
       "    <tr>\n",
       "      <th>1</th>\n",
       "      <td>2196</td>\n",
       "      <td>104.571429</td>\n",
       "    </tr>\n",
       "    <tr>\n",
       "      <th>2</th>\n",
       "      <td>2261</td>\n",
       "      <td>98.304348</td>\n",
       "    </tr>\n",
       "    <tr>\n",
       "      <th>3</th>\n",
       "      <td>2099</td>\n",
       "      <td>91.260870</td>\n",
       "    </tr>\n",
       "    <tr>\n",
       "      <th>4</th>\n",
       "      <td>2485</td>\n",
       "      <td>108.043478</td>\n",
       "    </tr>\n",
       "    <tr>\n",
       "      <th>5</th>\n",
       "      <td>2931</td>\n",
       "      <td>127.434783</td>\n",
       "    </tr>\n",
       "    <tr>\n",
       "      <th>6</th>\n",
       "      <td>4098</td>\n",
       "      <td>178.173913</td>\n",
       "    </tr>\n",
       "    <tr>\n",
       "      <th>7</th>\n",
       "      <td>2698</td>\n",
       "      <td>117.304348</td>\n",
       "    </tr>\n",
       "  </tbody>\n",
       "</table>\n",
       "</div>"
      ],
      "text/plain": [
       "         Item     Average\n",
       "Weekday                  \n",
       "1        2196  104.571429\n",
       "2        2261   98.304348\n",
       "3        2099   91.260870\n",
       "4        2485  108.043478\n",
       "5        2931  127.434783\n",
       "6        4098  178.173913\n",
       "7        2698  117.304348"
      ]
     },
     "execution_count": 176,
     "metadata": {},
     "output_type": "execute_result"
    }
   ],
   "source": [
    "# apply the conditions to calculate the average items for each weekday\n",
    "conditions = [\n",
    "    (df_new_groupby_weekday.index == 1),\n",
    "    (df_new_groupby_weekday.index == 2),\n",
    "    (df_new_groupby_weekday.index == 3),\n",
    "    (df_new_groupby_weekday.index == 4),\n",
    "    (df_new_groupby_weekday.index == 5),\n",
    "    (df_new_groupby_weekday.index == 6),\n",
    "    (df_new_groupby_weekday.index == 7)]\n",
    "\n",
    "choices = [df_new_groupby_weekday.Item/21, df_new_groupby_weekday.Item/23, df_new_groupby_weekday.Item/23, df_new_groupby_weekday.Item/23, df_new_groupby_weekday.Item/23, df_new_groupby_weekday.Item/23, df_new_groupby_weekday.Item/23]\n",
    "\n",
    "df_new_groupby_weekday[\"Average\"] = np.select(conditions, choices, default=0)\n",
    "df_new_groupby_weekday"
   ]
  },
  {
   "cell_type": "code",
   "execution_count": 177,
   "metadata": {},
   "outputs": [
    {
     "data": {
      "text/plain": [
       "[Text(0,0.5,'Average Number of Items Scanned'),\n",
       " Text(0.5,0,'Day of the Week (1=Monday, 7=Sunday)')]"
      ]
     },
     "execution_count": 177,
     "metadata": {},
     "output_type": "execute_result"
    },
    {
     "data": {
      "image/png": "[encoded data removed]",
      "text/plain": [
       "<Figure size 864x360 with 1 Axes>"
      ]
     },
     "metadata": {
      "needs_background": "light"
     },
     "output_type": "display_data"
    }
   ],
   "source": [
    "df_new_groupby_weekday.plot(y=\"Average\", figsize=(12,5), title=\"Average Number by Items Scanned by Day of the Week\").set(xlabel=\"Day of the Week (1=Monday, 7=Sunday)\", ylabel=\"Average Number of Items Scanned\")"
   ]
  },
  {
   "cell_type": "markdown",
   "metadata": {},
   "source": [
    "We observe Saturday is the busiest day of the week with the highest transactions while Wednesday is the quietest day with the lowest ones. This is an interesting insight, the store owner could for eg. launch some promotional offers to boost up activity in the middle of the week when level is at its slowest."
   ]
  },
  {
   "cell_type": "markdown",
   "metadata": {},
   "source": [
    "### One Hot-Encoding"
   ]
  },
  {
   "cell_type": "markdown",
   "metadata": {},
   "source": [
    "The **Apriori** function in the MLxtend library expects data in a one-hot encoded pandas DataFrame. This means that all the data for a transaction must be included in one row and the items must be one-hot encoded. Example below:"
   ]
  },
  {
   "cell_type": "markdown",
   "metadata": {},
   "source": [
    "`|   | Coffee | Cake | Bread | Cookie | Muffin | Tea | Milk | Juice | Sandwich |\n",
    " |---|--------|------|-------|--------|--------|-----|------|-------|----------|\n",
    " | 0 | 0      | 1    | 1     | 0      | 0      |0    |0     |1      |0         |\n",
    " | 1 | 1      | 0    | 0     | 0      | 1      |0    |0     |0      |0         |\n",
    " | 2 | 0      | 0    | 0     | 1      | 0      |0    |0     |0      |1         |\n",
    " | 3 | 1      | 0    | 0     | 0      | 0      |1    |0     |0      |1         |\n",
    " | 4 | 1      | 1    | 0     | 0      | 0      |0    |0     |0      |0         |`"
   ]
  },
  {
   "cell_type": "markdown",
   "metadata": {},
   "source": [
    "Therefore, we'll need to group the bread dataframe by `Transaction` (row) and `Item` (column) and display the count of items. Then we need to consolidate the items into one transaction per row with each item one-hot encoded. "
   ]
  },
  {
   "cell_type": "code",
   "execution_count": 181,
   "metadata": {},
   "outputs": [
    {
     "data": {
      "text/html": [
       "<div>\n",
       "<style scoped>\n",
       "    .dataframe tbody tr th:only-of-type {\n",
       "        vertical-align: middle;\n",
       "    }\n",
       "\n",
       "    .dataframe tbody tr th {\n",
       "        vertical-align: top;\n",
       "    }\n",
       "\n",
       "    .dataframe thead th {\n",
       "        text-align: right;\n",
       "    }\n",
       "</style>\n",
       "<table border=\"1\" class=\"dataframe\">\n",
       "  <thead>\n",
       "    <tr style=\"text-align: right;\">\n",
       "      <th></th>\n",
       "      <th>Scanned</th>\n",
       "      <th>Item</th>\n",
       "      <th>Count</th>\n",
       "    </tr>\n",
       "  </thead>\n",
       "  <tbody>\n",
       "    <tr>\n",
       "      <th>0</th>\n",
       "      <td>1</td>\n",
       "      <td>Bread</td>\n",
       "      <td>1</td>\n",
       "    </tr>\n",
       "    <tr>\n",
       "      <th>1</th>\n",
       "      <td>2</td>\n",
       "      <td>Scandinavian</td>\n",
       "      <td>2</td>\n",
       "    </tr>\n",
       "    <tr>\n",
       "      <th>2</th>\n",
       "      <td>3</td>\n",
       "      <td>Cookies</td>\n",
       "      <td>1</td>\n",
       "    </tr>\n",
       "    <tr>\n",
       "      <th>3</th>\n",
       "      <td>3</td>\n",
       "      <td>Hot chocolate</td>\n",
       "      <td>1</td>\n",
       "    </tr>\n",
       "    <tr>\n",
       "      <th>4</th>\n",
       "      <td>3</td>\n",
       "      <td>Jam</td>\n",
       "      <td>1</td>\n",
       "    </tr>\n",
       "  </tbody>\n",
       "</table>\n",
       "</div>"
      ],
      "text/plain": [
       "   Scanned           Item  Count\n",
       "0        1          Bread      1\n",
       "1        2   Scandinavian      2\n",
       "2        3        Cookies      1\n",
       "3        3  Hot chocolate      1\n",
       "4        3            Jam      1"
      ]
     },
     "execution_count": 181,
     "metadata": {},
     "output_type": "execute_result"
    }
   ],
   "source": [
    "df_new = df_new.groupby([\"Scanned\",\"Item\"]).size().reset_index(name=\"Count\")\n",
    "\n",
    "df_new.head()"
   ]
  },
  {
   "cell_type": "code",
   "execution_count": 183,
   "metadata": {},
   "outputs": [
    {
     "data": {
      "text/html": [
       "<div>\n",
       "<style scoped>\n",
       "    .dataframe tbody tr th:only-of-type {\n",
       "        vertical-align: middle;\n",
       "    }\n",
       "\n",
       "    .dataframe tbody tr th {\n",
       "        vertical-align: top;\n",
       "    }\n",
       "\n",
       "    .dataframe thead th {\n",
       "        text-align: right;\n",
       "    }\n",
       "</style>\n",
       "<table border=\"1\" class=\"dataframe\">\n",
       "  <thead>\n",
       "    <tr style=\"text-align: right;\">\n",
       "      <th>Item</th>\n",
       "      <th>Adjustment</th>\n",
       "      <th>Afternoon with the baker</th>\n",
       "      <th>Alfajores</th>\n",
       "      <th>Argentina Night</th>\n",
       "      <th>Art Tray</th>\n",
       "      <th>Baguette</th>\n",
       "      <th>Bakewell</th>\n",
       "      <th>Bare Popcorn</th>\n",
       "      <th>Basket</th>\n",
       "      <th>Bowl Nic Pitt</th>\n",
       "      <th>...</th>\n",
       "      <th>The BART</th>\n",
       "      <th>The Nomad</th>\n",
       "      <th>Tiffin</th>\n",
       "      <th>Toast</th>\n",
       "      <th>Truffles</th>\n",
       "      <th>Tshirt</th>\n",
       "      <th>Valentine's card</th>\n",
       "      <th>Vegan Feast</th>\n",
       "      <th>Vegan mincepie</th>\n",
       "      <th>Victorian Sponge</th>\n",
       "    </tr>\n",
       "    <tr>\n",
       "      <th>Scanned</th>\n",
       "      <th></th>\n",
       "      <th></th>\n",
       "      <th></th>\n",
       "      <th></th>\n",
       "      <th></th>\n",
       "      <th></th>\n",
       "      <th></th>\n",
       "      <th></th>\n",
       "      <th></th>\n",
       "      <th></th>\n",
       "      <th></th>\n",
       "      <th></th>\n",
       "      <th></th>\n",
       "      <th></th>\n",
       "      <th></th>\n",
       "      <th></th>\n",
       "      <th></th>\n",
       "      <th></th>\n",
       "      <th></th>\n",
       "      <th></th>\n",
       "      <th></th>\n",
       "    </tr>\n",
       "  </thead>\n",
       "  <tbody>\n",
       "    <tr>\n",
       "      <th>1</th>\n",
       "      <td>0.0</td>\n",
       "      <td>0.0</td>\n",
       "      <td>0.0</td>\n",
       "      <td>0.0</td>\n",
       "      <td>0.0</td>\n",
       "      <td>0.0</td>\n",
       "      <td>0.0</td>\n",
       "      <td>0.0</td>\n",
       "      <td>0.0</td>\n",
       "      <td>0.0</td>\n",
       "      <td>...</td>\n",
       "      <td>0.0</td>\n",
       "      <td>0.0</td>\n",
       "      <td>0.0</td>\n",
       "      <td>0.0</td>\n",
       "      <td>0.0</td>\n",
       "      <td>0.0</td>\n",
       "      <td>0.0</td>\n",
       "      <td>0.0</td>\n",
       "      <td>0.0</td>\n",
       "      <td>0.0</td>\n",
       "    </tr>\n",
       "    <tr>\n",
       "      <th>2</th>\n",
       "      <td>0.0</td>\n",
       "      <td>0.0</td>\n",
       "      <td>0.0</td>\n",
       "      <td>0.0</td>\n",
       "      <td>0.0</td>\n",
       "      <td>0.0</td>\n",
       "      <td>0.0</td>\n",
       "      <td>0.0</td>\n",
       "      <td>0.0</td>\n",
       "      <td>0.0</td>\n",
       "      <td>...</td>\n",
       "      <td>0.0</td>\n",
       "      <td>0.0</td>\n",
       "      <td>0.0</td>\n",
       "      <td>0.0</td>\n",
       "      <td>0.0</td>\n",
       "      <td>0.0</td>\n",
       "      <td>0.0</td>\n",
       "      <td>0.0</td>\n",
       "      <td>0.0</td>\n",
       "      <td>0.0</td>\n",
       "    </tr>\n",
       "    <tr>\n",
       "      <th>3</th>\n",
       "      <td>0.0</td>\n",
       "      <td>0.0</td>\n",
       "      <td>0.0</td>\n",
       "      <td>0.0</td>\n",
       "      <td>0.0</td>\n",
       "      <td>0.0</td>\n",
       "      <td>0.0</td>\n",
       "      <td>0.0</td>\n",
       "      <td>0.0</td>\n",
       "      <td>0.0</td>\n",
       "      <td>...</td>\n",
       "      <td>0.0</td>\n",
       "      <td>0.0</td>\n",
       "      <td>0.0</td>\n",
       "      <td>0.0</td>\n",
       "      <td>0.0</td>\n",
       "      <td>0.0</td>\n",
       "      <td>0.0</td>\n",
       "      <td>0.0</td>\n",
       "      <td>0.0</td>\n",
       "      <td>0.0</td>\n",
       "    </tr>\n",
       "    <tr>\n",
       "      <th>4</th>\n",
       "      <td>0.0</td>\n",
       "      <td>0.0</td>\n",
       "      <td>0.0</td>\n",
       "      <td>0.0</td>\n",
       "      <td>0.0</td>\n",
       "      <td>0.0</td>\n",
       "      <td>0.0</td>\n",
       "      <td>0.0</td>\n",
       "      <td>0.0</td>\n",
       "      <td>0.0</td>\n",
       "      <td>...</td>\n",
       "      <td>0.0</td>\n",
       "      <td>0.0</td>\n",
       "      <td>0.0</td>\n",
       "      <td>0.0</td>\n",
       "      <td>0.0</td>\n",
       "      <td>0.0</td>\n",
       "      <td>0.0</td>\n",
       "      <td>0.0</td>\n",
       "      <td>0.0</td>\n",
       "      <td>0.0</td>\n",
       "    </tr>\n",
       "    <tr>\n",
       "      <th>5</th>\n",
       "      <td>0.0</td>\n",
       "      <td>0.0</td>\n",
       "      <td>0.0</td>\n",
       "      <td>0.0</td>\n",
       "      <td>0.0</td>\n",
       "      <td>0.0</td>\n",
       "      <td>0.0</td>\n",
       "      <td>0.0</td>\n",
       "      <td>0.0</td>\n",
       "      <td>0.0</td>\n",
       "      <td>...</td>\n",
       "      <td>0.0</td>\n",
       "      <td>0.0</td>\n",
       "      <td>0.0</td>\n",
       "      <td>0.0</td>\n",
       "      <td>0.0</td>\n",
       "      <td>0.0</td>\n",
       "      <td>0.0</td>\n",
       "      <td>0.0</td>\n",
       "      <td>0.0</td>\n",
       "      <td>0.0</td>\n",
       "    </tr>\n",
       "  </tbody>\n",
       "</table>\n",
       "<p>5 rows × 93 columns</p>\n",
       "</div>"
      ],
      "text/plain": [
       "Item     Adjustment  Afternoon with the baker  Alfajores  Argentina Night  \\\n",
       "Scanned                                                                     \n",
       "1               0.0                       0.0        0.0              0.0   \n",
       "2               0.0                       0.0        0.0              0.0   \n",
       "3               0.0                       0.0        0.0              0.0   \n",
       "4               0.0                       0.0        0.0              0.0   \n",
       "5               0.0                       0.0        0.0              0.0   \n",
       "\n",
       "Item     Art Tray  Baguette  Bakewell  Bare Popcorn  Basket  Bowl Nic Pitt  \\\n",
       "Scanned                                                                      \n",
       "1             0.0       0.0       0.0           0.0     0.0            0.0   \n",
       "2             0.0       0.0       0.0           0.0     0.0            0.0   \n",
       "3             0.0       0.0       0.0           0.0     0.0            0.0   \n",
       "4             0.0       0.0       0.0           0.0     0.0            0.0   \n",
       "5             0.0       0.0       0.0           0.0     0.0            0.0   \n",
       "\n",
       "Item     ...  The BART  The Nomad  Tiffin  Toast  Truffles  Tshirt  \\\n",
       "Scanned  ...                                                         \n",
       "1        ...       0.0        0.0     0.0    0.0       0.0     0.0   \n",
       "2        ...       0.0        0.0     0.0    0.0       0.0     0.0   \n",
       "3        ...       0.0        0.0     0.0    0.0       0.0     0.0   \n",
       "4        ...       0.0        0.0     0.0    0.0       0.0     0.0   \n",
       "5        ...       0.0        0.0     0.0    0.0       0.0     0.0   \n",
       "\n",
       "Item     Valentine's card  Vegan Feast  Vegan mincepie  Victorian Sponge  \n",
       "Scanned                                                                   \n",
       "1                     0.0          0.0             0.0               0.0  \n",
       "2                     0.0          0.0             0.0               0.0  \n",
       "3                     0.0          0.0             0.0               0.0  \n",
       "4                     0.0          0.0             0.0               0.0  \n",
       "5                     0.0          0.0             0.0               0.0  \n",
       "\n",
       "[5 rows x 93 columns]"
      ]
     },
     "execution_count": 183,
     "metadata": {},
     "output_type": "execute_result"
    }
   ],
   "source": [
    "MBA = (df_new.groupby(['Scanned', 'Item'])['Count']\n",
    "          .sum().unstack().reset_index().fillna(0)\n",
    "          .set_index('Scanned'))\n",
    "\n",
    "MBA.head()"
   ]
  },
  {
   "cell_type": "code",
   "execution_count": 194,
   "metadata": {
    "scrolled": true
   },
   "outputs": [
    {
     "data": {
      "text/html": [
       "<div>\n",
       "<style scoped>\n",
       "    .dataframe tbody tr th:only-of-type {\n",
       "        vertical-align: middle;\n",
       "    }\n",
       "\n",
       "    .dataframe tbody tr th {\n",
       "        vertical-align: top;\n",
       "    }\n",
       "\n",
       "    .dataframe thead th {\n",
       "        text-align: right;\n",
       "    }\n",
       "</style>\n",
       "<table border=\"1\" class=\"dataframe\">\n",
       "  <thead>\n",
       "    <tr style=\"text-align: right;\">\n",
       "      <th>Item</th>\n",
       "      <th>Cake</th>\n",
       "      <th>Caramel bites</th>\n",
       "      <th>Cherry me Dried fruit</th>\n",
       "      <th>Chicken Stew</th>\n",
       "      <th>Chicken sand</th>\n",
       "      <th>Chimichurri Oil</th>\n",
       "      <th>Chocolates</th>\n",
       "      <th>Christmas common</th>\n",
       "      <th>Coffee</th>\n",
       "      <th>Coffee granules</th>\n",
       "      <th>Coke</th>\n",
       "      <th>Cookies</th>\n",
       "      <th>Crepes</th>\n",
       "      <th>Crisps</th>\n",
       "    </tr>\n",
       "    <tr>\n",
       "      <th>Scanned</th>\n",
       "      <th></th>\n",
       "      <th></th>\n",
       "      <th></th>\n",
       "      <th></th>\n",
       "      <th></th>\n",
       "      <th></th>\n",
       "      <th></th>\n",
       "      <th></th>\n",
       "      <th></th>\n",
       "      <th></th>\n",
       "      <th></th>\n",
       "      <th></th>\n",
       "      <th></th>\n",
       "      <th></th>\n",
       "    </tr>\n",
       "  </thead>\n",
       "  <tbody>\n",
       "    <tr>\n",
       "      <th>6560</th>\n",
       "      <td>0.0</td>\n",
       "      <td>0.0</td>\n",
       "      <td>0.0</td>\n",
       "      <td>0.0</td>\n",
       "      <td>0.0</td>\n",
       "      <td>0.0</td>\n",
       "      <td>0.0</td>\n",
       "      <td>0.0</td>\n",
       "      <td>4.0</td>\n",
       "      <td>0.0</td>\n",
       "      <td>0.0</td>\n",
       "      <td>1.0</td>\n",
       "      <td>0.0</td>\n",
       "      <td>0.0</td>\n",
       "    </tr>\n",
       "    <tr>\n",
       "      <th>6850</th>\n",
       "      <td>0.0</td>\n",
       "      <td>0.0</td>\n",
       "      <td>0.0</td>\n",
       "      <td>0.0</td>\n",
       "      <td>0.0</td>\n",
       "      <td>0.0</td>\n",
       "      <td>0.0</td>\n",
       "      <td>0.0</td>\n",
       "      <td>4.0</td>\n",
       "      <td>0.0</td>\n",
       "      <td>0.0</td>\n",
       "      <td>0.0</td>\n",
       "      <td>0.0</td>\n",
       "      <td>0.0</td>\n",
       "    </tr>\n",
       "    <tr>\n",
       "      <th>6887</th>\n",
       "      <td>1.0</td>\n",
       "      <td>0.0</td>\n",
       "      <td>0.0</td>\n",
       "      <td>0.0</td>\n",
       "      <td>0.0</td>\n",
       "      <td>0.0</td>\n",
       "      <td>0.0</td>\n",
       "      <td>0.0</td>\n",
       "      <td>4.0</td>\n",
       "      <td>0.0</td>\n",
       "      <td>0.0</td>\n",
       "      <td>0.0</td>\n",
       "      <td>0.0</td>\n",
       "      <td>0.0</td>\n",
       "    </tr>\n",
       "  </tbody>\n",
       "</table>\n",
       "</div>"
      ],
      "text/plain": [
       "Item     Cake  Caramel bites  Cherry me Dried fruit  Chicken Stew  \\\n",
       "Scanned                                                             \n",
       "6560      0.0            0.0                    0.0           0.0   \n",
       "6850      0.0            0.0                    0.0           0.0   \n",
       "6887      1.0            0.0                    0.0           0.0   \n",
       "\n",
       "Item     Chicken sand  Chimichurri Oil  Chocolates  Christmas common  Coffee  \\\n",
       "Scanned                                                                        \n",
       "6560              0.0              0.0         0.0               0.0     4.0   \n",
       "6850              0.0              0.0         0.0               0.0     4.0   \n",
       "6887              0.0              0.0         0.0               0.0     4.0   \n",
       "\n",
       "Item     Coffee granules   Coke  Cookies  Crepes  Crisps  \n",
       "Scanned                                                   \n",
       "6560                  0.0   0.0      1.0     0.0     0.0  \n",
       "6850                  0.0   0.0      0.0     0.0     0.0  \n",
       "6887                  0.0   0.0      0.0     0.0     0.0  "
      ]
     },
     "execution_count": 194,
     "metadata": {},
     "output_type": "execute_result"
    }
   ],
   "source": [
    "MBA[MBA.Coffee == 4].iloc[:,14:28]\n",
    "#MBA[MBA.Bread == 4].iloc[:,1:14]"
   ]
  },
  {
   "cell_type": "markdown",
   "metadata": {},
   "source": [
    "Note. In Transaction 6887 for eg. the cell value for Coffee is \"4.0\" because there were 4 coffee purchased in this transaction. However, this is not important here as we are mainly interested by transactions below, equal or above 0 and 1. We will thus encode values into 1.<br>\n",
    "After applying the **encoding function**, for the same Transaction 6887, the cell value for Coffee should become \"1\" which is what we need for the **Apriori function**."
   ]
  },
  {
   "cell_type": "code",
   "execution_count": 185,
   "metadata": {},
   "outputs": [],
   "source": [
    "# the encoding function\n",
    "def encode_units(x):\n",
    "    if x <= 0:\n",
    "        return 0\n",
    "    if x >= 1:\n",
    "        return 1\n"
   ]
  },
  {
   "cell_type": "code",
   "execution_count": 187,
   "metadata": {},
   "outputs": [
    {
     "data": {
      "text/html": [
       "<div>\n",
       "<style scoped>\n",
       "    .dataframe tbody tr th:only-of-type {\n",
       "        vertical-align: middle;\n",
       "    }\n",
       "\n",
       "    .dataframe tbody tr th {\n",
       "        vertical-align: top;\n",
       "    }\n",
       "\n",
       "    .dataframe thead th {\n",
       "        text-align: right;\n",
       "    }\n",
       "</style>\n",
       "<table border=\"1\" class=\"dataframe\">\n",
       "  <thead>\n",
       "    <tr style=\"text-align: right;\">\n",
       "      <th>Item</th>\n",
       "      <th>Adjustment</th>\n",
       "      <th>Afternoon with the baker</th>\n",
       "      <th>Alfajores</th>\n",
       "      <th>Argentina Night</th>\n",
       "      <th>Art Tray</th>\n",
       "      <th>Baguette</th>\n",
       "      <th>Bakewell</th>\n",
       "      <th>Bare Popcorn</th>\n",
       "      <th>Basket</th>\n",
       "      <th>Bowl Nic Pitt</th>\n",
       "      <th>...</th>\n",
       "      <th>The BART</th>\n",
       "      <th>The Nomad</th>\n",
       "      <th>Tiffin</th>\n",
       "      <th>Toast</th>\n",
       "      <th>Truffles</th>\n",
       "      <th>Tshirt</th>\n",
       "      <th>Valentine's card</th>\n",
       "      <th>Vegan Feast</th>\n",
       "      <th>Vegan mincepie</th>\n",
       "      <th>Victorian Sponge</th>\n",
       "    </tr>\n",
       "    <tr>\n",
       "      <th>Scanned</th>\n",
       "      <th></th>\n",
       "      <th></th>\n",
       "      <th></th>\n",
       "      <th></th>\n",
       "      <th></th>\n",
       "      <th></th>\n",
       "      <th></th>\n",
       "      <th></th>\n",
       "      <th></th>\n",
       "      <th></th>\n",
       "      <th></th>\n",
       "      <th></th>\n",
       "      <th></th>\n",
       "      <th></th>\n",
       "      <th></th>\n",
       "      <th></th>\n",
       "      <th></th>\n",
       "      <th></th>\n",
       "      <th></th>\n",
       "      <th></th>\n",
       "      <th></th>\n",
       "    </tr>\n",
       "  </thead>\n",
       "  <tbody>\n",
       "    <tr>\n",
       "      <th>9680</th>\n",
       "      <td>0</td>\n",
       "      <td>0</td>\n",
       "      <td>0</td>\n",
       "      <td>0</td>\n",
       "      <td>0</td>\n",
       "      <td>0</td>\n",
       "      <td>0</td>\n",
       "      <td>0</td>\n",
       "      <td>0</td>\n",
       "      <td>0</td>\n",
       "      <td>...</td>\n",
       "      <td>0</td>\n",
       "      <td>0</td>\n",
       "      <td>0</td>\n",
       "      <td>0</td>\n",
       "      <td>0</td>\n",
       "      <td>0</td>\n",
       "      <td>0</td>\n",
       "      <td>0</td>\n",
       "      <td>0</td>\n",
       "      <td>0</td>\n",
       "    </tr>\n",
       "    <tr>\n",
       "      <th>9681</th>\n",
       "      <td>0</td>\n",
       "      <td>0</td>\n",
       "      <td>0</td>\n",
       "      <td>0</td>\n",
       "      <td>0</td>\n",
       "      <td>0</td>\n",
       "      <td>0</td>\n",
       "      <td>0</td>\n",
       "      <td>0</td>\n",
       "      <td>0</td>\n",
       "      <td>...</td>\n",
       "      <td>0</td>\n",
       "      <td>0</td>\n",
       "      <td>0</td>\n",
       "      <td>0</td>\n",
       "      <td>1</td>\n",
       "      <td>0</td>\n",
       "      <td>0</td>\n",
       "      <td>0</td>\n",
       "      <td>0</td>\n",
       "      <td>0</td>\n",
       "    </tr>\n",
       "    <tr>\n",
       "      <th>9682</th>\n",
       "      <td>0</td>\n",
       "      <td>0</td>\n",
       "      <td>0</td>\n",
       "      <td>0</td>\n",
       "      <td>0</td>\n",
       "      <td>0</td>\n",
       "      <td>0</td>\n",
       "      <td>0</td>\n",
       "      <td>0</td>\n",
       "      <td>0</td>\n",
       "      <td>...</td>\n",
       "      <td>0</td>\n",
       "      <td>0</td>\n",
       "      <td>0</td>\n",
       "      <td>0</td>\n",
       "      <td>0</td>\n",
       "      <td>0</td>\n",
       "      <td>0</td>\n",
       "      <td>0</td>\n",
       "      <td>0</td>\n",
       "      <td>0</td>\n",
       "    </tr>\n",
       "    <tr>\n",
       "      <th>9683</th>\n",
       "      <td>0</td>\n",
       "      <td>0</td>\n",
       "      <td>0</td>\n",
       "      <td>0</td>\n",
       "      <td>0</td>\n",
       "      <td>0</td>\n",
       "      <td>0</td>\n",
       "      <td>0</td>\n",
       "      <td>0</td>\n",
       "      <td>0</td>\n",
       "      <td>...</td>\n",
       "      <td>0</td>\n",
       "      <td>0</td>\n",
       "      <td>0</td>\n",
       "      <td>0</td>\n",
       "      <td>0</td>\n",
       "      <td>0</td>\n",
       "      <td>0</td>\n",
       "      <td>0</td>\n",
       "      <td>0</td>\n",
       "      <td>0</td>\n",
       "    </tr>\n",
       "    <tr>\n",
       "      <th>9684</th>\n",
       "      <td>0</td>\n",
       "      <td>0</td>\n",
       "      <td>0</td>\n",
       "      <td>0</td>\n",
       "      <td>0</td>\n",
       "      <td>0</td>\n",
       "      <td>0</td>\n",
       "      <td>0</td>\n",
       "      <td>0</td>\n",
       "      <td>0</td>\n",
       "      <td>...</td>\n",
       "      <td>0</td>\n",
       "      <td>0</td>\n",
       "      <td>0</td>\n",
       "      <td>0</td>\n",
       "      <td>0</td>\n",
       "      <td>0</td>\n",
       "      <td>0</td>\n",
       "      <td>0</td>\n",
       "      <td>0</td>\n",
       "      <td>0</td>\n",
       "    </tr>\n",
       "  </tbody>\n",
       "</table>\n",
       "<p>5 rows × 93 columns</p>\n",
       "</div>"
      ],
      "text/plain": [
       "Item     Adjustment  Afternoon with the baker  Alfajores  Argentina Night  \\\n",
       "Scanned                                                                     \n",
       "9680              0                         0          0                0   \n",
       "9681              0                         0          0                0   \n",
       "9682              0                         0          0                0   \n",
       "9683              0                         0          0                0   \n",
       "9684              0                         0          0                0   \n",
       "\n",
       "Item     Art Tray  Baguette  Bakewell  Bare Popcorn  Basket  Bowl Nic Pitt  \\\n",
       "Scanned                                                                      \n",
       "9680            0         0         0             0       0              0   \n",
       "9681            0         0         0             0       0              0   \n",
       "9682            0         0         0             0       0              0   \n",
       "9683            0         0         0             0       0              0   \n",
       "9684            0         0         0             0       0              0   \n",
       "\n",
       "Item     ...  The BART  The Nomad  Tiffin  Toast  Truffles  Tshirt  \\\n",
       "Scanned  ...                                                         \n",
       "9680     ...         0          0       0      0         0       0   \n",
       "9681     ...         0          0       0      0         1       0   \n",
       "9682     ...         0          0       0      0         0       0   \n",
       "9683     ...         0          0       0      0         0       0   \n",
       "9684     ...         0          0       0      0         0       0   \n",
       "\n",
       "Item     Valentine's card  Vegan Feast  Vegan mincepie  Victorian Sponge  \n",
       "Scanned                                                                   \n",
       "9680                    0            0               0                 0  \n",
       "9681                    0            0               0                 0  \n",
       "9682                    0            0               0                 0  \n",
       "9683                    0            0               0                 0  \n",
       "9684                    0            0               0                 0  \n",
       "\n",
       "[5 rows x 93 columns]"
      ]
     },
     "execution_count": 187,
     "metadata": {},
     "output_type": "execute_result"
    }
   ],
   "source": [
    "MBA_sets = MBA.applymap(encode_units)\n",
    "\n",
    "MBA_sets.tail()"
   ]
  },
  {
   "cell_type": "code",
   "execution_count": 188,
   "metadata": {
    "scrolled": false
   },
   "outputs": [
    {
     "data": {
      "text/html": [
       "<div>\n",
       "<style scoped>\n",
       "    .dataframe tbody tr th:only-of-type {\n",
       "        vertical-align: middle;\n",
       "    }\n",
       "\n",
       "    .dataframe tbody tr th {\n",
       "        vertical-align: top;\n",
       "    }\n",
       "\n",
       "    .dataframe thead th {\n",
       "        text-align: right;\n",
       "    }\n",
       "</style>\n",
       "<table border=\"1\" class=\"dataframe\">\n",
       "  <thead>\n",
       "    <tr style=\"text-align: right;\">\n",
       "      <th>Item</th>\n",
       "      <th>Cake</th>\n",
       "      <th>Caramel bites</th>\n",
       "      <th>Cherry me Dried fruit</th>\n",
       "      <th>Chicken Stew</th>\n",
       "      <th>Chicken sand</th>\n",
       "      <th>Chimichurri Oil</th>\n",
       "      <th>Chocolates</th>\n",
       "      <th>Christmas common</th>\n",
       "      <th>Coffee</th>\n",
       "      <th>Coffee granules</th>\n",
       "      <th>Coke</th>\n",
       "      <th>Cookies</th>\n",
       "      <th>Crepes</th>\n",
       "      <th>Crisps</th>\n",
       "    </tr>\n",
       "    <tr>\n",
       "      <th>Scanned</th>\n",
       "      <th></th>\n",
       "      <th></th>\n",
       "      <th></th>\n",
       "      <th></th>\n",
       "      <th></th>\n",
       "      <th></th>\n",
       "      <th></th>\n",
       "      <th></th>\n",
       "      <th></th>\n",
       "      <th></th>\n",
       "      <th></th>\n",
       "      <th></th>\n",
       "      <th></th>\n",
       "      <th></th>\n",
       "    </tr>\n",
       "  </thead>\n",
       "  <tbody>\n",
       "    <tr>\n",
       "      <th>7532</th>\n",
       "      <td>0</td>\n",
       "      <td>0</td>\n",
       "      <td>0</td>\n",
       "      <td>0</td>\n",
       "      <td>0</td>\n",
       "      <td>0</td>\n",
       "      <td>0</td>\n",
       "      <td>0</td>\n",
       "      <td>1</td>\n",
       "      <td>0</td>\n",
       "      <td>0</td>\n",
       "      <td>0</td>\n",
       "      <td>0</td>\n",
       "      <td>0</td>\n",
       "    </tr>\n",
       "    <tr>\n",
       "      <th>7535</th>\n",
       "      <td>0</td>\n",
       "      <td>0</td>\n",
       "      <td>0</td>\n",
       "      <td>0</td>\n",
       "      <td>0</td>\n",
       "      <td>0</td>\n",
       "      <td>0</td>\n",
       "      <td>0</td>\n",
       "      <td>1</td>\n",
       "      <td>0</td>\n",
       "      <td>0</td>\n",
       "      <td>0</td>\n",
       "      <td>0</td>\n",
       "      <td>0</td>\n",
       "    </tr>\n",
       "    <tr>\n",
       "      <th>7536</th>\n",
       "      <td>0</td>\n",
       "      <td>0</td>\n",
       "      <td>0</td>\n",
       "      <td>0</td>\n",
       "      <td>0</td>\n",
       "      <td>0</td>\n",
       "      <td>0</td>\n",
       "      <td>0</td>\n",
       "      <td>1</td>\n",
       "      <td>0</td>\n",
       "      <td>0</td>\n",
       "      <td>0</td>\n",
       "      <td>0</td>\n",
       "      <td>0</td>\n",
       "    </tr>\n",
       "  </tbody>\n",
       "</table>\n",
       "</div>"
      ],
      "text/plain": [
       "Item     Cake  Caramel bites  Cherry me Dried fruit  Chicken Stew  \\\n",
       "Scanned                                                             \n",
       "7532        0              0                      0             0   \n",
       "7535        0              0                      0             0   \n",
       "7536        0              0                      0             0   \n",
       "\n",
       "Item     Chicken sand  Chimichurri Oil  Chocolates  Christmas common  Coffee  \\\n",
       "Scanned                                                                        \n",
       "7532                0                0           0                 0       1   \n",
       "7535                0                0           0                 0       1   \n",
       "7536                0                0           0                 0       1   \n",
       "\n",
       "Item     Coffee granules   Coke  Cookies  Crepes  Crisps  \n",
       "Scanned                                                   \n",
       "7532                    0     0        0       0       0  \n",
       "7535                    0     0        0       0       0  \n",
       "7536                    0     0        0       0       0  "
      ]
     },
     "execution_count": 188,
     "metadata": {},
     "output_type": "execute_result"
    }
   ],
   "source": [
    "MBA_sets[MBA_sets.Coffee == 1].iloc[3142:3145,14:28]"
   ]
  },
  {
   "cell_type": "markdown",
   "metadata": {},
   "source": [
    "### Applying Apriori algorithm and Association Rules"
   ]
  },
  {
   "cell_type": "markdown",
   "metadata": {},
   "source": [
    "#### Apriori algorithm logical diagram"
   ]
  },
  {
   "cell_type": "markdown",
   "metadata": {},
   "source": [
    "<img src=\"https://blog-c7ff.kxcdn.com/blog/wp-content/uploads/2017/03/Apriori-Algorithm.jpg\" width=\"500px\">"
   ]
  },
  {
   "cell_type": "markdown",
   "metadata": {},
   "source": [
    "[source](https://colab.research.google.com/drive/1yt2wjMkvl2SWYIMurlft3Vle0Ca24EFC#scrollTo=UAY1f3QikC1k)"
   ]
  },
  {
   "cell_type": "markdown",
   "metadata": {},
   "source": [
    "***How does Apriori Algorithm Work ?***\n",
    "\n",
    "A key concept in Apriori algorithm is the anti-monotonicity of the support measure. It assumes that\n",
    "\n",
    "* All subsets of a frequent itemset must be frequent\n",
    "* Similarly, for any infrequent itemset, all its supersets must be infrequent too\n",
    "\n",
    "**Step 1**: Create a frequency table of all the items that occur in all the transactions.\n",
    "\n",
    "**Step 2**: We know that only those elements are significant for which the support is greater than or equal to the threshold support.\n",
    "\n",
    "**Step 3**: The next step is to make all the possible pairs of the significant items keeping in mind that the order doesn’t matter, i.e., AB is same as BA.\n",
    "\n",
    "**Step 4**: We will now count the occurrences of each pair in all the transactions.\n",
    "\n",
    "**Step 5**: Again only those itemsets are significant which cross the support threshold\n",
    "\n",
    "**Step 6**: Now let’s say we would like to look for a set of three items that are purchased together. We will use the itemsets found in step 5 and create a set of 3 items."
   ]
  },
  {
   "cell_type": "markdown",
   "metadata": {},
   "source": [
    "***\n",
    "### Frequent Itemsets\n",
    "Now that we have hot-encoded all the values above 1 into 1, we are ready to generate the frequent item sets. We will set the minimum-support threshold at 1%\n"
   ]
  },
  {
   "cell_type": "code",
   "execution_count": 189,
   "metadata": {},
   "outputs": [],
   "source": [
    "frequent_itemsets = apriori(MBA_sets, min_support=0.01, use_colnames=True)"
   ]
  },
  {
   "cell_type": "markdown",
   "metadata": {},
   "source": [
    "## Association Rules ##\n",
    "The final step is to generate the *rules with their corresponding support, confidence and lift*. We will set the minimum threshold for lift at 1 and then sort the result by descending confidence value."
   ]
  },
  {
   "cell_type": "code",
   "execution_count": 192,
   "metadata": {},
   "outputs": [
    {
     "data": {
      "text/html": [
       "<div>\n",
       "<style scoped>\n",
       "    .dataframe tbody tr th:only-of-type {\n",
       "        vertical-align: middle;\n",
       "    }\n",
       "\n",
       "    .dataframe tbody tr th {\n",
       "        vertical-align: top;\n",
       "    }\n",
       "\n",
       "    .dataframe thead th {\n",
       "        text-align: right;\n",
       "    }\n",
       "</style>\n",
       "<table border=\"1\" class=\"dataframe\">\n",
       "  <thead>\n",
       "    <tr style=\"text-align: right;\">\n",
       "      <th></th>\n",
       "      <th>antecedents</th>\n",
       "      <th>consequents</th>\n",
       "      <th>antecedent support</th>\n",
       "      <th>consequent support</th>\n",
       "      <th>support</th>\n",
       "      <th>confidence</th>\n",
       "      <th>lift</th>\n",
       "      <th>leverage</th>\n",
       "      <th>conviction</th>\n",
       "    </tr>\n",
       "  </thead>\n",
       "  <tbody>\n",
       "    <tr>\n",
       "      <th>29</th>\n",
       "      <td>(Toast)</td>\n",
       "      <td>(Coffee)</td>\n",
       "      <td>0.032126</td>\n",
       "      <td>0.470153</td>\n",
       "      <td>0.022442</td>\n",
       "      <td>0.698582</td>\n",
       "      <td>1.485861</td>\n",
       "      <td>0.007338</td>\n",
       "      <td>1.757846</td>\n",
       "    </tr>\n",
       "    <tr>\n",
       "      <th>19</th>\n",
       "      <td>(Medialuna)</td>\n",
       "      <td>(Coffee)</td>\n",
       "      <td>0.062315</td>\n",
       "      <td>0.470153</td>\n",
       "      <td>0.034974</td>\n",
       "      <td>0.561243</td>\n",
       "      <td>1.193747</td>\n",
       "      <td>0.005676</td>\n",
       "      <td>1.207610</td>\n",
       "    </tr>\n",
       "    <tr>\n",
       "      <th>22</th>\n",
       "      <td>(Pastry)</td>\n",
       "      <td>(Coffee)</td>\n",
       "      <td>0.087833</td>\n",
       "      <td>0.470153</td>\n",
       "      <td>0.048075</td>\n",
       "      <td>0.547341</td>\n",
       "      <td>1.164177</td>\n",
       "      <td>0.006780</td>\n",
       "      <td>1.170522</td>\n",
       "    </tr>\n",
       "    <tr>\n",
       "      <th>0</th>\n",
       "      <td>(Alfajores)</td>\n",
       "      <td>(Coffee)</td>\n",
       "      <td>0.037138</td>\n",
       "      <td>0.470153</td>\n",
       "      <td>0.019936</td>\n",
       "      <td>0.536810</td>\n",
       "      <td>1.141778</td>\n",
       "      <td>0.002476</td>\n",
       "      <td>1.143909</td>\n",
       "    </tr>\n",
       "    <tr>\n",
       "      <th>24</th>\n",
       "      <td>(Sandwich)</td>\n",
       "      <td>(Coffee)</td>\n",
       "      <td>0.067555</td>\n",
       "      <td>0.470153</td>\n",
       "      <td>0.035657</td>\n",
       "      <td>0.527825</td>\n",
       "      <td>1.122666</td>\n",
       "      <td>0.003896</td>\n",
       "      <td>1.122141</td>\n",
       "    </tr>\n",
       "    <tr>\n",
       "      <th>6</th>\n",
       "      <td>(Cake)</td>\n",
       "      <td>(Coffee)</td>\n",
       "      <td>0.106516</td>\n",
       "      <td>0.470153</td>\n",
       "      <td>0.055366</td>\n",
       "      <td>0.519786</td>\n",
       "      <td>1.105569</td>\n",
       "      <td>0.005287</td>\n",
       "      <td>1.103357</td>\n",
       "    </tr>\n",
       "    <tr>\n",
       "      <th>17</th>\n",
       "      <td>(Juice)</td>\n",
       "      <td>(Coffee)</td>\n",
       "      <td>0.034860</td>\n",
       "      <td>0.470153</td>\n",
       "      <td>0.017772</td>\n",
       "      <td>0.509804</td>\n",
       "      <td>1.084337</td>\n",
       "      <td>0.001382</td>\n",
       "      <td>1.080889</td>\n",
       "    </tr>\n",
       "    <tr>\n",
       "      <th>13</th>\n",
       "      <td>(Cookies)</td>\n",
       "      <td>(Coffee)</td>\n",
       "      <td>0.055594</td>\n",
       "      <td>0.470153</td>\n",
       "      <td>0.028139</td>\n",
       "      <td>0.506148</td>\n",
       "      <td>1.076560</td>\n",
       "      <td>0.002001</td>\n",
       "      <td>1.072886</td>\n",
       "    </tr>\n",
       "    <tr>\n",
       "      <th>27</th>\n",
       "      <td>(Scone)</td>\n",
       "      <td>(Coffee)</td>\n",
       "      <td>0.035202</td>\n",
       "      <td>0.470153</td>\n",
       "      <td>0.017772</td>\n",
       "      <td>0.504854</td>\n",
       "      <td>1.073809</td>\n",
       "      <td>0.001222</td>\n",
       "      <td>1.070084</td>\n",
       "    </tr>\n",
       "    <tr>\n",
       "      <th>14</th>\n",
       "      <td>(Hot chocolate)</td>\n",
       "      <td>(Coffee)</td>\n",
       "      <td>0.056277</td>\n",
       "      <td>0.470153</td>\n",
       "      <td>0.027797</td>\n",
       "      <td>0.493927</td>\n",
       "      <td>1.050568</td>\n",
       "      <td>0.001338</td>\n",
       "      <td>1.046978</td>\n",
       "    </tr>\n",
       "  </tbody>\n",
       "</table>\n",
       "</div>"
      ],
      "text/plain": [
       "        antecedents consequents  antecedent support  consequent support  \\\n",
       "29          (Toast)    (Coffee)            0.032126            0.470153   \n",
       "19      (Medialuna)    (Coffee)            0.062315            0.470153   \n",
       "22         (Pastry)    (Coffee)            0.087833            0.470153   \n",
       "0       (Alfajores)    (Coffee)            0.037138            0.470153   \n",
       "24       (Sandwich)    (Coffee)            0.067555            0.470153   \n",
       "6            (Cake)    (Coffee)            0.106516            0.470153   \n",
       "17          (Juice)    (Coffee)            0.034860            0.470153   \n",
       "13        (Cookies)    (Coffee)            0.055594            0.470153   \n",
       "27          (Scone)    (Coffee)            0.035202            0.470153   \n",
       "14  (Hot chocolate)    (Coffee)            0.056277            0.470153   \n",
       "\n",
       "     support  confidence      lift  leverage  conviction  \n",
       "29  0.022442    0.698582  1.485861  0.007338    1.757846  \n",
       "19  0.034974    0.561243  1.193747  0.005676    1.207610  \n",
       "22  0.048075    0.547341  1.164177  0.006780    1.170522  \n",
       "0   0.019936    0.536810  1.141778  0.002476    1.143909  \n",
       "24  0.035657    0.527825  1.122666  0.003896    1.122141  \n",
       "6   0.055366    0.519786  1.105569  0.005287    1.103357  \n",
       "17  0.017772    0.509804  1.084337  0.001382    1.080889  \n",
       "13  0.028139    0.506148  1.076560  0.002001    1.072886  \n",
       "27  0.017772    0.504854  1.073809  0.001222    1.070084  \n",
       "14  0.027797    0.493927  1.050568  0.001338    1.046978  "
      ]
     },
     "execution_count": 192,
     "metadata": {},
     "output_type": "execute_result"
    }
   ],
   "source": [
    "rules = association_rules(frequent_itemsets, metric=\"lift\", min_threshold=1)\n",
    "rules.sort_values(\"confidence\", ascending = False, inplace = True)\n",
    "rules.head(10)"
   ]
  },
  {
   "cell_type": "markdown",
   "metadata": {},
   "source": [
    "***\n",
    "## Interpretation and Implications ##\n",
    "From the table above, we observe that the Top 10 itemsets sorted by confidence value and all itemsets have support value over 1% and lift value over 1. <br>\n",
    "As we have focused on Coffee due to its value of 4 converted into 1 (as an illustration of one hot-encoding technique), we will continue with the exploration this item: The first itemset shows the association rule **\"if Toast then Coffee\"** with *support value at 0.022442 means nearly 2.4% of all transactions have this combination of Toast and Coffee bought together*. We also have roughly *70% confidence* that Coffee sales happen whenever a Toast is purchased. The *lift value of 1.48* (greater than 1) shows that the purchase of Coffee is indeed influenced by the purchase of Toast rather than Coffee's purchase being independent of Toast. The lift value of 1.48 means that Toast's purchase lifts the Coffee's purchase by 1.47 times.\n",
    "\n",
    "Therefore, we can conclude that there is indeed evidence to suggest that the purchase of Toast leads to the purchase of Coffee.<br> Same analysis can be performed for Bread and Butter, as initially aimed."
   ]
  },
  {
   "cell_type": "markdown",
   "metadata": {},
   "source": [
    "The owner of the bakery \"The Bread Basket\" should, as an actionable decision forward for example, consider bundling Toast and Cofee together as a Breakfast Set or Lunch Set, the staff in the store should also be trained to cross-sell Coffee to customers who purchase Toast, knowing that they are more likely to purchase them together, thereby increasing the store's revenue."
   ]
  },
  {
   "cell_type": "markdown",
   "metadata": {},
   "source": [
    "***\n",
    "### References ###\n",
    "- Amir, A. (2019, February 3). Association Rule(Apriori and Eclat Algorithms) with Practical Implementation. *Medium*. Retrieved from https://medium.com/machine-learning-researcher/association-rule-apriori-and-eclat-algorithm-4e963fa972a4\n",
    "- Kaushik, D. (2019, January 15). Product Recommendation Case Study Using Apriori Algorithm for a Grocery Store. *Medium*. Retrieved from https://medium.com/datadriveninvestor/product-recommendation-using-association-rule-mining-for-a-grocery-store-7e7feb6cd0f9\n",
    "- Madalina, C. (2019, Juin 8). An introduction to frequent pattern mining research. Summary of Apriori, Eclat and FP tree algorithms. *IMedium*. Retrieved from https://medium.com/@ciortanmadalina/an-introduction-to-frequent-pattern-mining-research-564f239548e\n",
    "- Andrewngai (2020, March 17). Understand and Build FP-Growth Algorithm in Python. Frequency Pattern Mining using FP-tree and conditional FP-tree in Python. *Towards Data Science*. Retrieved from https://towardsdatascience.com/understand-and-build-fp-growth-algorithm-in-python-d8b989bab342\n",
    "- Xavier Vivancos, G. (2020, May). Market Basket Analysis. *Kaggle*. Retrieved from https://www.kaggle.com/xvivancos/market-basket-analysis\n",
    "\n",
    "\n"
   ]
  },
  {
   "cell_type": "code",
   "execution_count": null,
   "metadata": {},
   "outputs": [],
   "source": []
  }
 ],
 "metadata": {
  "kernelspec": {
   "display_name": "Python 3",
   "language": "python",
   "name": "python3"
  },
  "language_info": {
   "codemirror_mode": {
    "name": "ipython",
    "version": 3
   },
   "file_extension": ".py",
   "mimetype": "text/x-python",
   "name": "python",
   "nbconvert_exporter": "python",
   "pygments_lexer": "ipython3",
   "version": "3.7.7"
  }
 },
 "nbformat": 4,
 "nbformat_minor": 2
}
