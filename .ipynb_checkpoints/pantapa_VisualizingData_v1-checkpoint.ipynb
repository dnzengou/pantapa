{
 "cells": [
  {
   "cell_type": "markdown",
   "metadata": {},
   "source": [
    "<a href=\"https://colab.research.google.com/github/dnzengou/pantapa/blob/master/pantapa_VisualizingData_v1.ipynb\" \n",
    "target=\"_parent\"><img src=\"https://colab.research.google.com/assets/colab-badge.svg\" alt=\"Open In Colab\"/></a>"
   ]
  },
  {
   "cell_type": "markdown",
   "metadata": {},
   "source": [
    "# Visualizing Data for Classification\n",
    "\n",
    "In the previous lab, you explored the automotive price dataset to understand the relationships for a regression problem. In this lab you will explore the German bank credit dataset to understand the relationships for a **classification** problem. The difference being, that in classification problems the label is a categorical variable. \n",
    "\n",
    "In other labs you will use what you learn through visualization to create a solution that predicts the customers with bad credit. For now, the focus of this lab is on visually exploring the data to determine which features may be useful in predicting customer's bad credit.\n",
    "\n",
    "Visualization for classification problems shares much in common with visualization for regression problems. Colinear features should be identified so they can be eliminated or otherwise dealt with. However, for classification problems you are looking for features that help **separate the label categories**. Separation is achieved when there are distinctive feature values for each label category. Good separation results in low classification error rate."
   ]
  },
  {
   "cell_type": "markdown",
   "metadata": {},
   "source": [
    "## Load and prepare the data set \n",
    "\n",
    "### Prepare data to a manageable format"
   ]
  },
  {
   "cell_type": "code",
   "execution_count": 3,
   "metadata": {},
   "outputs": [],
   "source": [
    "## Unziping (file on linux)\n",
    "#unzip pantapa_api_development.zip"
   ]
  },
  {
   "cell_type": "code",
   "execution_count": 4,
   "metadata": {},
   "outputs": [],
   "source": [
    "##  Convert bson files with, optionally, the outputs documents in a pretty-printed format JSON\n",
    "#bsondump --pretty --outFile collection.json collection.bson\n",
    "## OR via https://json-bson-converter.appspot.com/"
   ]
  },
  {
   "cell_type": "code",
   "execution_count": 7,
   "metadata": {},
   "outputs": [],
   "source": [
    "# read the entire file into a python array\n",
    "#with open('data/data-pantapa_bson2json/brands.json', 'rb') as f:\n",
    "#    data = f.readlines()\n",
    "\n",
    "# remove the trailing \"\\n\" from each line\n",
    "#data = map(lambda x: x.rstrip(), data)\n",
    "\n",
    "# each element of 'data' is an individual JSON object.\n",
    "# i want to convert it into an *array* of JSON objects\n",
    "# which, in and of itself, is one large JSON object\n",
    "# basically... add square brackets to the beginning\n",
    "# and end, and have all the individual business JSON objects\n",
    "# separated by a comma\n",
    "#data_json_str = \"[\" + ','.join(data) + \"]\"\n",
    "\n",
    "# now, load it into pandas\n",
    "#data_df = pd.read_json(data_json_str)"
   ]
  },
  {
   "cell_type": "code",
   "execution_count": 50,
   "metadata": {},
   "outputs": [
    {
     "name": "stdout",
     "output_type": "stream",
     "text": [
      "['vouchertypes.json', 'scans.json', 'brands.json', 'appinfos.json', 'voucherurls.json', 'vouchers.json', 'vouchertypeurls.json', 'organizations.json', 'materialtypes.json', 'companies.json', 'stations.json', 'prescans.json']\n"
     ]
    }
   ],
   "source": [
    "## List all the mongodb data .bson files in the dedicated folder\n",
    "\n",
    "import os\n",
    "\n",
    "arr = os.listdir('data/data-pantapa_bson2json')\n",
    "print(arr)"
   ]
  },
  {
   "cell_type": "code",
   "execution_count": 78,
   "metadata": {},
   "outputs": [
    {
     "name": "stdout",
     "output_type": "stream",
     "text": [
      "appinfos.bson\n",
      "appinfos.metadata.json\n",
      "brands.bson\n",
      "brands.metadata.json\n",
      "codenotfounds.metadata.json\n",
      "companies.bson\n",
      "companies.metadata.json\n",
      "materialtypes.bson\n",
      "materialtypes.metadata.json\n",
      "modulehashes.metadata.json\n",
      "organizations.bson\n",
      "organizations.metadata.json\n",
      "packages.metadata.json\n",
      "prescans.bson\n",
      "prescans.metadata.json\n",
      "scans.bson\n",
      "scans.metadata.json\n",
      "sessiontokens.bson\n",
      "stations.bson\n",
      "stations.metadata.json\n",
      "tokens.bson\n",
      "tokens.metadata.json\n",
      "userinformations.metadata.json\n",
      "vouchers.bson\n",
      "vouchertypes.bson\n",
      "vouchertypes.metadata.json\n",
      "vouchertypeurls.bson\n",
      "voucherurls.bson\n",
      "voucherurls.metadata.json\n",
      "\n"
     ]
    }
   ],
   "source": [
    "## Alternatively, proceed as below\n",
    "## Eg. list all bson files Input data files contained in pantapa_api_development directory\n",
    "\n",
    "from subprocess import check_output\n",
    "print(check_output(['ls', 'data/data-pantapa_bson']).decode('utf8'))\n",
    "\n",
    "# Any results you write to the current directory are saved as output."
   ]
  },
  {
   "cell_type": "code",
   "execution_count": 1,
   "metadata": {},
   "outputs": [],
   "source": [
    "## Convert from json to csv, for ease of visualization\n",
    "import pandas as pd"
   ]
  },
  {
   "cell_type": "code",
   "execution_count": 6,
   "metadata": {
    "scrolled": true
   },
   "outputs": [],
   "source": [
    "companies = pd.read_json('data/data-pantapa_bson2json/companies.json', lines=True)\n",
    "companies.to_csv (r'data/data-pantapa_json2csv/companies.csv', index = None)"
   ]
  },
  {
   "cell_type": "code",
   "execution_count": 12,
   "metadata": {},
   "outputs": [
    {
     "data": {
      "text/html": [
       "<div>\n",
       "<style scoped>\n",
       "    .dataframe tbody tr th:only-of-type {\n",
       "        vertical-align: middle;\n",
       "    }\n",
       "\n",
       "    .dataframe tbody tr th {\n",
       "        vertical-align: top;\n",
       "    }\n",
       "\n",
       "    .dataframe thead th {\n",
       "        text-align: right;\n",
       "    }\n",
       "</style>\n",
       "<table border=\"1\" class=\"dataframe\">\n",
       "  <thead>\n",
       "    <tr style=\"text-align: right;\">\n",
       "      <th></th>\n",
       "      <th>_id</th>\n",
       "      <th>data</th>\n",
       "      <th>meta</th>\n",
       "      <th>local</th>\n",
       "      <th>__v</th>\n",
       "    </tr>\n",
       "  </thead>\n",
       "  <tbody>\n",
       "    <tr>\n",
       "      <th>0</th>\n",
       "      <td>{'machine': -1768797184, 'inc': 299119782, 'ti...</td>\n",
       "      <td>{'name': 'Test', 'active': True, 'alreadyConne...</td>\n",
       "      <td>{'timestamp': {'createdAt': 1576742726344, 'up...</td>\n",
       "      <td>{'sv': {'name': 'Test'}}</td>\n",
       "      <td>0</td>\n",
       "    </tr>\n",
       "  </tbody>\n",
       "</table>\n",
       "</div>"
      ],
      "text/plain": [
       "                                                 _id  \\\n",
       "0  {'machine': -1768797184, 'inc': 299119782, 'ti...   \n",
       "\n",
       "                                                data  \\\n",
       "0  {'name': 'Test', 'active': True, 'alreadyConne...   \n",
       "\n",
       "                                                meta  \\\n",
       "0  {'timestamp': {'createdAt': 1576742726344, 'up...   \n",
       "\n",
       "                      local  __v  \n",
       "0  {'sv': {'name': 'Test'}}    0  "
      ]
     },
     "execution_count": 12,
     "metadata": {},
     "output_type": "execute_result"
    }
   ],
   "source": [
    "companies.head()"
   ]
  },
  {
   "cell_type": "code",
   "execution_count": 8,
   "metadata": {},
   "outputs": [],
   "source": [
    "brands = pd.read_json('data/data-pantapa_bson2json/brands.json', lines=True)\n",
    "brands.to_csv (r'data/data-pantapa_json2csv/brands.csv', index = None)"
   ]
  },
  {
   "cell_type": "code",
   "execution_count": 9,
   "metadata": {},
   "outputs": [],
   "source": [
    "materialtypes = pd.read_json('data/data-pantapa_bson2json/materialtypes.json', lines=True)\n",
    "materialtypes.to_csv (r'data/data-pantapa_json2csv/materialtypes.csv', index = None)"
   ]
  },
  {
   "cell_type": "code",
   "execution_count": 13,
   "metadata": {},
   "outputs": [],
   "source": [
    "organizations = pd.read_json('data/data-pantapa_bson2json/organizations.json', lines=True)\n",
    "organizations.to_csv (r'data/data-pantapa_json2csv/organizations.csv', index = None)"
   ]
  },
  {
   "cell_type": "code",
   "execution_count": 15,
   "metadata": {},
   "outputs": [],
   "source": [
    "prescans = pd.read_json('data/data-pantapa_bson2json/prescans.json', lines=True)\n",
    "prescans.to_csv (r'data/data-pantapa_json2csv/prescans.csv', index = None)"
   ]
  },
  {
   "cell_type": "code",
   "execution_count": 16,
   "metadata": {},
   "outputs": [],
   "source": [
    "scans = pd.read_json('data/data-pantapa_bson2json/scans.json', lines=True)\n",
    "scans.to_csv (r'data/data-pantapa_json2csv/scans.csv', index = None)"
   ]
  },
  {
   "cell_type": "code",
   "execution_count": 17,
   "metadata": {},
   "outputs": [],
   "source": [
    "stations = pd.read_json('data/data-pantapa_bson2json/stations.json', lines=True)\n",
    "stations.to_csv (r'data/data-pantapa_json2csv/stations.csv', index = None)"
   ]
  },
  {
   "cell_type": "code",
   "execution_count": 19,
   "metadata": {},
   "outputs": [],
   "source": [
    "vouchertypes = pd.read_json('data/data-pantapa_bson2json/vouchertypes.json', lines=True)\n",
    "vouchertypes.to_csv (r'data/data-pantapa_json2csv/vouchertypes.csv', index = None)"
   ]
  },
  {
   "cell_type": "code",
   "execution_count": 20,
   "metadata": {},
   "outputs": [],
   "source": [
    "vouchertypeurls = pd.read_json('data/data-pantapa_bson2json/vouchertypeurls.json', lines=True)\n",
    "vouchertypeurls.to_csv (r'data/data-pantapa_json2csv/vouchertypeurls.csv', index = None)"
   ]
  },
  {
   "cell_type": "code",
   "execution_count": 21,
   "metadata": {},
   "outputs": [],
   "source": [
    "voucherurls = pd.read_json('data/data-pantapa_bson2json/voucherurls.json', lines=True)\n",
    "voucherurls.to_csv (r'data/data-pantapa_json2csv/voucherurls.csv', index = None)"
   ]
  },
  {
   "cell_type": "markdown",
   "metadata": {},
   "source": [
    "## Processing bson files\n",
    "\n",
    "source:\n",
    "- [Kaggle](https://www.kaggle.com/inversion/processing-bson-files?select=category_names.csv)\n",
    "- [Access and process nested objects, arrays or JSON](https://hackersandslackers.com/extract-data-from-complex-json-python/)"
   ]
  },
  {
   "cell_type": "markdown",
   "metadata": {},
   "source": [
    "### Extract objects from nested JSON\n",
    "#### and explore datasets\n"
   ]
  },
  {
   "cell_type": "code",
   "execution_count": 30,
   "metadata": {},
   "outputs": [],
   "source": [
    "#print(scans['data'])"
   ]
  },
  {
   "cell_type": "code",
   "execution_count": 34,
   "metadata": {},
   "outputs": [],
   "source": [
    "import json"
   ]
  },
  {
   "cell_type": "code",
   "execution_count": 39,
   "metadata": {},
   "outputs": [
    {
     "name": "stdout",
     "output_type": "stream",
     "text": [
      "{'_id': {'machine': -1929563094, 'inc': 1543472925, 'time': 1546864630}, 'meta': {'timestamp': {'createdAt': 1546864630613, 'updatedAt': 1591603654184}, 'owner': '1'}, 'data': {'enums': {'name': 'Apoteket stor grå påse', 'code_id': {'machine': -1181772615, 'inc': -1816772975, 'time': 1546864207}, 'type_id': {'machine': 796298278, 'inc': -2063241031, 'time': 1546863291}, 'station_id': {'machine': 971168042, 'inc': -2057295937, 'time': 1546864571}, 'location': {'type': 'Point', 'coordinates': [18.0373788, 59.3313148]}, 'brand_id': {'machine': 1762676284, 'inc': 1074367085, 'time': 1560947259}, 'code': 'unlimited', 'distance': 401555, 'preScan': False, 'validated': True}, 'value': {}}, '__v': 0}\n"
     ]
    }
   ],
   "source": [
    "## Read and print scans JSON file in JSON format\n",
    "\n",
    "# Open the existing JSON file for loading into a variable\n",
    "with open('data/data-pantapa_bson2json/scans.json') as json_file:\n",
    "  scans = json.load(json_file)\n",
    "\n",
    "# Print the JSON data\n",
    "print(scans)"
   ]
  },
  {
   "cell_type": "code",
   "execution_count": 42,
   "metadata": {},
   "outputs": [
    {
     "name": "stdout",
     "output_type": "stream",
     "text": [
      "[18.0373788, 59.3313148]\n"
     ]
    }
   ],
   "source": [
    "## Inspect content of this object\n",
    "print(scans['data']['enums']['location']['coordinates'])"
   ]
  },
  {
   "cell_type": "markdown",
   "metadata": {},
   "source": [
    "Lat = 59.3313148, Long = 18.0373788\n",
    "![station0](img/Latitude-Longitude_Point0.png)\n",
    "[source](https://getlatlong.net/)"
   ]
  },
  {
   "cell_type": "code",
   "execution_count": 43,
   "metadata": {},
   "outputs": [
    {
     "name": "stdout",
     "output_type": "stream",
     "text": [
      "Apoteket stor grå påse\n"
     ]
    }
   ],
   "source": [
    "print(scans['data']['enums']['name'])"
   ]
  },
  {
   "cell_type": "code",
   "execution_count": 41,
   "metadata": {},
   "outputs": [
    {
     "name": "stdout",
     "output_type": "stream",
     "text": [
      "{'_id': {'machine': -1516816128, 'inc': 420127729, 'time': 1584097871}, 'meta': {'timestamp': {'createdAt': 1584097871176, 'updatedAt': 1584097871176}, 'owner': '704'}, 'data': {'enums': {'status': 'PENDING', 'name': 'Brunchägg L 12-p inbur HP', 'code': '37332489012828', 'code_id': {'machine': 1712788861, 'inc': -1148145211, 'time': 1556016820}, 'code_category_id': {'machine': 1282099258, 'inc': 1195392612, 'time': 1563997440}, 'type_id': {'machine': 1712788861, 'inc': -1148146211, 'time': 1556016820}, 'image': 'https://s3.eu-north-1.amazonaws.com/package-imgs/37332489012828.jpg', 'location': {'type': 'Point', 'coordinates': [27.5285912, 53.9204432]}, 'overLimit': False}, 'value': {'cash': 2, 'points': 5, 'co2': 555}, 'code': '37332489012828'}, '__v': 0}\n"
     ]
    }
   ],
   "source": [
    "## Read and print prescans JSON file in JSON format\n",
    "\n",
    "# Open the existing JSON file for loading into a variable\n",
    "with open('data/data-pantapa_bson2json/prescans.json') as json_file:\n",
    "  prescans = json.load(json_file)\n",
    "\n",
    "# Print the JSON data\n",
    "print(prescans)"
   ]
  },
  {
   "cell_type": "code",
   "execution_count": 44,
   "metadata": {},
   "outputs": [
    {
     "name": "stdout",
     "output_type": "stream",
     "text": [
      "[27.5285912, 53.9204432]\n"
     ]
    }
   ],
   "source": [
    "print(prescans['data']['enums']['location']['coordinates'])"
   ]
  },
  {
   "cell_type": "code",
   "execution_count": 45,
   "metadata": {},
   "outputs": [
    {
     "name": "stdout",
     "output_type": "stream",
     "text": [
      "PENDING\n"
     ]
    }
   ],
   "source": [
    "print(prescans['data']['enums']['status'])"
   ]
  },
  {
   "cell_type": "code",
   "execution_count": 46,
   "metadata": {},
   "outputs": [
    {
     "name": "stdout",
     "output_type": "stream",
     "text": [
      "Brunchägg L 12-p inbur HP\n"
     ]
    }
   ],
   "source": [
    "print(prescans['data']['enums']['name'])"
   ]
  },
  {
   "cell_type": "code",
   "execution_count": 52,
   "metadata": {},
   "outputs": [
    {
     "name": "stdout",
     "output_type": "stream",
     "text": [
      "{'_id': {'machine': 807374111, 'inc': 516528122, 'time': 1556777805}, 'meta': {'timestamp': {'createdAt': 1556777805898, 'updatedAt': 1557749074527}, 'owner': '174'}, 'data': {'used': True, 'voucher_type_id': {'machine': -152542972, 'inc': -1324526238, 'time': 1556718933}, 'redeem_date': 1556777805897, 'coupon': {'interleavedCode': '00000000', 'couponCode': 'LY2Ujv64yF', 'name': 'Panta Påsen Test', 'value': 0, 'htmlLink': 'http://p.kupong.se/LY2Ujv64yF', 'imageUrl': 'http://p.kupong.se/Content/images/API_ClearOn.jpg', 'validFrom': '2019-04-14T00:00:00', 'validTo': '2019-11-14T00:00:00', 'internalValue': None}}, '__v': 0}\n"
     ]
    }
   ],
   "source": [
    "## Read and print vouchers JSON file in JSON format\n",
    "\n",
    "# Open the existing JSON file for loading into a variable\n",
    "with open('data/data-pantapa_bson2json/vouchers.json') as json_file:\n",
    "  vouchers = json.load(json_file)\n",
    "\n",
    "# Print the JSON data\n",
    "print(vouchers)"
   ]
  },
  {
   "cell_type": "code",
   "execution_count": 59,
   "metadata": {},
   "outputs": [
    {
     "name": "stdout",
     "output_type": "stream",
     "text": [
      "1556777805897\n"
     ]
    }
   ],
   "source": [
    "print(vouchers['data']['redeem_date'])"
   ]
  },
  {
   "cell_type": "code",
   "execution_count": 60,
   "metadata": {},
   "outputs": [
    {
     "name": "stdout",
     "output_type": "stream",
     "text": [
      "2019-11-14T00:00:00\n"
     ]
    }
   ],
   "source": [
    "print(vouchers['data']['coupon']['validTo'])"
   ]
  },
  {
   "cell_type": "code",
   "execution_count": 55,
   "metadata": {},
   "outputs": [
    {
     "name": "stdout",
     "output_type": "stream",
     "text": [
      "Panta Påsen Test\n"
     ]
    }
   ],
   "source": [
    "print(vouchers['data']['coupon']['name'])"
   ]
  },
  {
   "cell_type": "code",
   "execution_count": 57,
   "metadata": {},
   "outputs": [
    {
     "name": "stdout",
     "output_type": "stream",
     "text": [
      "http://p.kupong.se/LY2Ujv64yF\n"
     ]
    }
   ],
   "source": [
    "print(vouchers['data']['coupon']['htmlLink'])"
   ]
  },
  {
   "cell_type": "code",
   "execution_count": 58,
   "metadata": {},
   "outputs": [
    {
     "name": "stdout",
     "output_type": "stream",
     "text": [
      "LY2Ujv64yF\n"
     ]
    }
   ],
   "source": [
    "print(vouchers['data']['coupon']['couponCode'])"
   ]
  },
  {
   "cell_type": "code",
   "execution_count": 80,
   "metadata": {
    "scrolled": true
   },
   "outputs": [
    {
     "name": "stdout",
     "output_type": "stream",
     "text": [
      "{'_id': {'machine': 1762676284, 'inc': 1074367085, 'time': 1560947259}, 'data': {'name': 'Apoteket AB', 'image': {'key': 'development/brands-image/5d0a2a3b69104e3c40098a6d-apoteket_logo_png', 'source': 'https://panta-pasen.s3.amazonaws.com/development/brands-image/5d0a2a3b69104e3c40098a6d-apoteket_logo_png'}, 'active': True, 'company_id': None, 'country_code': ['SE'], 'deep_link': 'https://app.pantapa.com/N3AKBENTKSpAgZeq9'}, 'meta': {'timestamp': {'createdAt': 1566215629675, 'updatedAt': 1591180045366}}, 'local': {'sv': {'order': 10, 'company_name': None, 'company_address': None, 'post_address': None, 'vat_nr': None, 'contact_person': {}, 'how_it_works': {'package_name': 'Apoteket ABs plastpåsar', 'image_link': {'key': 'development/brands-image/5d0a2a3b69104e3c40098a6d_package-Apoteket_Bags_Green_png', 'source': 'https://panta-pasen.s3.amazonaws.com/development/brands-image/5d0a2a3b69104e3c40098a6d_package-Apoteket_Bags_Green_png', '__typename': 'AwsImage'}, 'text_line1': 'See available stores', 'text_line1_url': 'https://www.apoteket.se/globalassets/om-apoteket/hallbar-utveckling/apotek-med-pantbara-pasar-2019_apoteket_se.pdf', 'text_line2': 'Upp till 2 SEK per pantad påse.', 'show_brand_logo': True, 'description': ['Plastpåsar sålda i utvalda buikter i Sverige.', 'Upp till 2 SEK per skannad plastpåse. ']}}, 'en': {'order': 10, 'company_name': None, 'company_address': None, 'post_address': None, 'vat_nr': None, 'contact_person': {}, 'how_it_works': {'package_name': \"Apoteket AB's plastic bags\", 'image_link': {'key': 'development/brands-image/5d0a2a3b69104e3c40098a6d_package-Apoteket_Bags_Green_png', 'source': 'https://panta-pasen.s3.amazonaws.com/development/brands-image/5d0a2a3b69104e3c40098a6d_package-Apoteket_Bags_Green_png', '__typename': 'AwsImage'}, 'text_line1': 'Se tillgängliga butiker', 'text_line1_url': 'https://www.apoteket.se/globalassets/om-apoteket/hallbar-utveckling/apotek-med-pantbara-pasar-2019_apoteket_se.pdf', 'text_line2': 'Up to SEK 2 per deposited bag.', 'show_brand_logo': True, 'description': ['Plastic bags sold in selected stores in Sweden.', 'Up to SEK 2 per scanned bag']}}}}\n"
     ]
    }
   ],
   "source": [
    "## Read and print brands JSON file in JSON format\n",
    "\n",
    "# Open the existing JSON file for loading into a variable\n",
    "with open('data/data-pantapa_bson2json/brands.json') as json_file:\n",
    "  brands = json.load(json_file)\n",
    "\n",
    "# Print the JSON data\n",
    "print(brands)"
   ]
  },
  {
   "cell_type": "code",
   "execution_count": 81,
   "metadata": {},
   "outputs": [
    {
     "name": "stdout",
     "output_type": "stream",
     "text": [
      "{\n",
      "    \"_id\": {\n",
      "        \"inc\": 1074367085,\n",
      "        \"machine\": 1762676284,\n",
      "        \"time\": 1560947259\n",
      "    },\n",
      "    \"data\": {\n",
      "        \"active\": true,\n",
      "        \"company_id\": null,\n",
      "        \"country_code\": [\n",
      "            \"SE\"\n",
      "        ],\n",
      "        \"deep_link\": \"https://app.pantapa.com/N3AKBENTKSpAgZeq9\",\n",
      "        \"image\": {\n",
      "            \"key\": \"development/brands-image/5d0a2a3b69104e3c40098a6d-apoteket_logo_png\",\n",
      "            \"source\": \"https://panta-pasen.s3.amazonaws.com/development/brands-image/5d0a2a3b69104e3c40098a6d-apoteket_logo_png\"\n",
      "        },\n",
      "        \"name\": \"Apoteket AB\"\n",
      "    },\n",
      "    \"local\": {\n",
      "        \"en\": {\n",
      "            \"company_address\": null,\n",
      "            \"company_name\": null,\n",
      "            \"contact_person\": {},\n",
      "            \"how_it_works\": {\n",
      "                \"description\": [\n",
      "                    \"Plastic bags sold in selected stores in Sweden.\",\n",
      "                    \"Up to SEK 2 per scanned bag\"\n",
      "                ],\n",
      "                \"image_link\": {\n",
      "                    \"__typename\": \"AwsImage\",\n",
      "                    \"key\": \"development/brands-image/5d0a2a3b69104e3c40098a6d_package-Apoteket_Bags_Green_png\",\n",
      "                    \"source\": \"https://panta-pasen.s3.amazonaws.com/development/brands-image/5d0a2a3b69104e3c40098a6d_package-Apoteket_Bags_Green_png\"\n",
      "                },\n",
      "                \"package_name\": \"Apoteket AB's plastic bags\",\n",
      "                \"show_brand_logo\": true,\n",
      "                \"text_line1\": \"Se tillg\\u00e4ngliga butiker\",\n",
      "                \"text_line1_url\": \"https://www.apoteket.se/globalassets/om-apoteket/hallbar-utveckling/apotek-med-pantbara-pasar-2019_apoteket_se.pdf\",\n",
      "                \"text_line2\": \"Up to SEK 2 per deposited bag.\"\n",
      "            },\n",
      "            \"order\": 10,\n",
      "            \"post_address\": null,\n",
      "            \"vat_nr\": null\n",
      "        },\n",
      "        \"sv\": {\n",
      "            \"company_address\": null,\n",
      "            \"company_name\": null,\n",
      "            \"contact_person\": {},\n",
      "            \"how_it_works\": {\n",
      "                \"description\": [\n",
      "                    \"Plastp\\u00e5sar s\\u00e5lda i utvalda buikter i Sverige.\",\n",
      "                    \"Upp till 2 SEK per skannad plastp\\u00e5se. \"\n",
      "                ],\n",
      "                \"image_link\": {\n",
      "                    \"__typename\": \"AwsImage\",\n",
      "                    \"key\": \"development/brands-image/5d0a2a3b69104e3c40098a6d_package-Apoteket_Bags_Green_png\",\n",
      "                    \"source\": \"https://panta-pasen.s3.amazonaws.com/development/brands-image/5d0a2a3b69104e3c40098a6d_package-Apoteket_Bags_Green_png\"\n",
      "                },\n",
      "                \"package_name\": \"Apoteket ABs plastp\\u00e5sar\",\n",
      "                \"show_brand_logo\": true,\n",
      "                \"text_line1\": \"See available stores\",\n",
      "                \"text_line1_url\": \"https://www.apoteket.se/globalassets/om-apoteket/hallbar-utveckling/apotek-med-pantbara-pasar-2019_apoteket_se.pdf\",\n",
      "                \"text_line2\": \"Upp till 2 SEK per pantad p\\u00e5se.\"\n",
      "            },\n",
      "            \"order\": 10,\n",
      "            \"post_address\": null,\n",
      "            \"vat_nr\": null\n",
      "        }\n",
      "    },\n",
      "    \"meta\": {\n",
      "        \"timestamp\": {\n",
      "            \"createdAt\": 1566215629675,\n",
      "            \"updatedAt\": 1591180045366\n",
      "        }\n",
      "    }\n",
      "}\n"
     ]
    }
   ],
   "source": [
    "## And in pretty json format \n",
    "print(json.dumps(brands, indent=4, sort_keys=True))"
   ]
  },
  {
   "cell_type": "markdown",
   "metadata": {},
   "source": [
    "We observe that there is only one brand in this file. Not enough to draw any pattern or trend, yet interersting to explore in depth some variables of interest for information purpose. To get to know the data better."
   ]
  },
  {
   "cell_type": "code",
   "execution_count": 63,
   "metadata": {},
   "outputs": [
    {
     "name": "stdout",
     "output_type": "stream",
     "text": [
      "Apoteket AB\n"
     ]
    }
   ],
   "source": [
    "print(brands['data']['name'])"
   ]
  },
  {
   "cell_type": "code",
   "execution_count": 65,
   "metadata": {
    "collapsed": true
   },
   "outputs": [
    {
     "name": "stdout",
     "output_type": "stream",
     "text": [
      "https://panta-pasen.s3.amazonaws.com/development/brands-image/5d0a2a3b69104e3c40098a6d-apoteket_logo_png\n"
     ]
    }
   ],
   "source": [
    "print(brands['data']['image']['source'])"
   ]
  },
  {
   "cell_type": "markdown",
   "metadata": {},
   "source": [
    "![source](https://panta-pasen.s3.amazonaws.com/development/brands-image/5d0a2a3b69104e3c40098a6d-apoteket_logo_png)"
   ]
  },
  {
   "cell_type": "code",
   "execution_count": 67,
   "metadata": {},
   "outputs": [
    {
     "name": "stdout",
     "output_type": "stream",
     "text": [
      "['SE']\n"
     ]
    }
   ],
   "source": [
    "print(brands['data']['country_code'])"
   ]
  },
  {
   "cell_type": "code",
   "execution_count": 73,
   "metadata": {},
   "outputs": [
    {
     "name": "stdout",
     "output_type": "stream",
     "text": [
      "https://panta-pasen.s3.amazonaws.com/development/brands-image/5d0a2a3b69104e3c40098a6d_package-Apoteket_Bags_Green_png\n"
     ]
    }
   ],
   "source": [
    "print(brands['local']['sv']['how_it_works']['image_link']['source'])"
   ]
  },
  {
   "cell_type": "markdown",
   "metadata": {},
   "source": [
    "![bags_green](https://panta-pasen.s3.amazonaws.com/development/brands-image/5d0a2a3b69104e3c40098a6d_package-Apoteket_Bags_Green_png)"
   ]
  },
  {
   "cell_type": "code",
   "execution_count": 74,
   "metadata": {},
   "outputs": [
    {
     "name": "stdout",
     "output_type": "stream",
     "text": [
      "https://www.apoteket.se/globalassets/om-apoteket/hallbar-utveckling/apotek-med-pantbara-pasar-2019_apoteket_se.pdf\n"
     ]
    }
   ],
   "source": [
    "print(brands['local']['sv']['how_it_works']['text_line1_url'])"
   ]
  },
  {
   "cell_type": "code",
   "execution_count": 75,
   "metadata": {},
   "outputs": [
    {
     "name": "stdout",
     "output_type": "stream",
     "text": [
      "Apoteket ABs plastpåsar\n"
     ]
    }
   ],
   "source": [
    "print(brands['local']['sv']['how_it_works']['package_name'])"
   ]
  },
  {
   "cell_type": "code",
   "execution_count": 82,
   "metadata": {},
   "outputs": [
    {
     "name": "stdout",
     "output_type": "stream",
     "text": [
      "['Plastic bags sold in selected stores in Sweden.', 'Up to SEK 2 per scanned bag']\n"
     ]
    }
   ],
   "source": [
    "print(brands['local']['en']['how_it_works']['description'])"
   ]
  },
  {
   "cell_type": "code",
   "execution_count": 85,
   "metadata": {
    "scrolled": true
   },
   "outputs": [
    {
     "name": "stdout",
     "output_type": "stream",
     "text": [
      "{\n",
      "    \"__v\": 0,\n",
      "    \"_id\": {\n",
      "        \"inc\": -2072099102,\n",
      "        \"machine\": 1962819352,\n",
      "        \"time\": 1545242828\n",
      "    },\n",
      "    \"data\": {\n",
      "        \"address\": \"Borgarfjordsgatan 8, 164 40 Kista, Sweden\",\n",
      "        \"country_code\": \"SE\",\n",
      "        \"description\": \"Laudantium et dignissimos voluptate eos. Dolorum quo voluptas corporis id aliquid magni voluptas. Soluta ducimus voluptas vel aut nihil ullam. Debitis consequatur vitae. Culpa voluptates tempora aut. Voluptatem occaecati voluptatem.\",\n",
      "        \"disabled\": false,\n",
      "        \"location\": {\n",
      "            \"coordinates\": [\n",
      "                17.9472797,\n",
      "                59.4067509\n",
      "            ],\n",
      "            \"type\": \"Point\"\n",
      "        },\n",
      "        \"name\": \"Test 1\",\n",
      "        \"point_type\": \"STATION\",\n",
      "        \"public\": true,\n",
      "        \"scan_distance\": 100,\n",
      "        \"store\": \"Eriksson - Nilsson\",\n",
      "        \"type_id\": []\n",
      "    },\n",
      "    \"meta\": {\n",
      "        \"created\": 1545242828280,\n",
      "        \"owner\": \"PP\",\n",
      "        \"timestamp\": {\n",
      "            \"updatedAt\": 1597910340625\n",
      "        },\n",
      "        \"updated\": 1545242828280\n",
      "    }\n",
      "}\n"
     ]
    }
   ],
   "source": [
    "## Read and print stations JSON file in JSON format\n",
    "\n",
    "# Open the existing JSON file for loading into a variable\n",
    "with open('data/data-pantapa_bson2json/stations.json') as json_file:\n",
    "  stations = json.load(json_file)\n",
    "\n",
    "# Print pretty JSON data\n",
    "print(json.dumps(stations, indent=4, sort_keys=True))"
   ]
  },
  {
   "cell_type": "markdown",
   "metadata": {},
   "source": [
    "As usual, let's look closer at the data"
   ]
  },
  {
   "cell_type": "code",
   "execution_count": 87,
   "metadata": {},
   "outputs": [
    {
     "name": "stdout",
     "output_type": "stream",
     "text": [
      "Borgarfjordsgatan 8, 164 40 Kista, Sweden\n"
     ]
    }
   ],
   "source": [
    "print(stations['data']['address'])"
   ]
  },
  {
   "cell_type": "code",
   "execution_count": 89,
   "metadata": {},
   "outputs": [
    {
     "name": "stdout",
     "output_type": "stream",
     "text": [
      "[17.9472797, 59.4067509]\n"
     ]
    }
   ],
   "source": [
    "print(stations['data']['location']['point_type'])"
   ]
  },
  {
   "cell_type": "markdown",
   "metadata": {},
   "source": [
    "Lat = 59.4067509, Long = 17.9472797\n",
    "![station1](img/Latitude-Longitude_Point1.png)"
   ]
  },
  {
   "cell_type": "code",
   "execution_count": 91,
   "metadata": {},
   "outputs": [
    {
     "name": "stdout",
     "output_type": "stream",
     "text": [
      "STATION\n"
     ]
    }
   ],
   "source": [
    "print(stations['data']['point_type'])"
   ]
  },
  {
   "cell_type": "code",
   "execution_count": 92,
   "metadata": {},
   "outputs": [
    {
     "name": "stdout",
     "output_type": "stream",
     "text": [
      "100\n"
     ]
    }
   ],
   "source": [
    "print(stations['data']['scan_distance'])"
   ]
  },
  {
   "cell_type": "code",
   "execution_count": 93,
   "metadata": {},
   "outputs": [
    {
     "name": "stdout",
     "output_type": "stream",
     "text": [
      "Eriksson - Nilsson\n"
     ]
    }
   ],
   "source": [
    "print(stations['data']['store'])"
   ]
  },
  {
   "cell_type": "code",
   "execution_count": 94,
   "metadata": {},
   "outputs": [
    {
     "name": "stdout",
     "output_type": "stream",
     "text": [
      "{\n",
      "    \"__v\": 0,\n",
      "    \"_id\": {\n",
      "        \"inc\": 291174544,\n",
      "        \"machine\": 1443409920,\n",
      "        \"time\": 1597996432\n",
      "    },\n",
      "    \"data\": {\n",
      "        \"active\": true,\n",
      "        \"contact_email\": \"\",\n",
      "        \"contact_person\": \"\",\n",
      "        \"contact_phone\": \"\",\n",
      "        \"image\": null,\n",
      "        \"name\": \"Ika\"\n",
      "    },\n",
      "    \"meta\": {\n",
      "        \"timestamp\": {\n",
      "            \"createdAt\": 1597996432537,\n",
      "            \"updatedAt\": 1597996432537\n",
      "        }\n",
      "    }\n",
      "}\n"
     ]
    }
   ],
   "source": [
    "## Read and print organizations JSON file in JSON format\n",
    "\n",
    "# Open the existing JSON file for loading into a variable\n",
    "with open('data/data-pantapa_bson2json/organizations.json') as json_file:\n",
    "  organizations = json.load(json_file)\n",
    "\n",
    "# Print pretty JSON data\n",
    "print(json.dumps(organizations, indent=4, sort_keys=True))"
   ]
  },
  {
   "cell_type": "code",
   "execution_count": 98,
   "metadata": {},
   "outputs": [
    {
     "name": "stdout",
     "output_type": "stream",
     "text": [
      "1443409920\n"
     ]
    }
   ],
   "source": [
    "print(organizations['_id']['machine'])"
   ]
  },
  {
   "cell_type": "code",
   "execution_count": 97,
   "metadata": {
    "scrolled": true
   },
   "outputs": [
    {
     "name": "stdout",
     "output_type": "stream",
     "text": [
      "Ika\n"
     ]
    }
   ],
   "source": [
    "print(organizations['data']['name'])"
   ]
  },
  {
   "cell_type": "markdown",
   "metadata": {},
   "source": [
    "<code>As datasets do not have significant numbers of products to visualize, extract patterns and/or predict future behaviours (such as articles often bought, i.e scanned, together), we will do the predictive analytics work on a dummy dataset of choice. For this purpose, we will put ourselves in the situation where ALL products are scannable. The method of choice we will implement is call **Market Basket Analysis**</code>"
   ]
  },
  {
   "cell_type": "markdown",
   "metadata": {},
   "source": [
    "## Market Basket Analysis (MBA)"
   ]
  },
  {
   "cell_type": "markdown",
   "metadata": {},
   "source": [
    "In a first part, we will briefly explain the MBA basics and illustrate it with a case study of items scanned in a supermarket. In the second part we will implement this technique in python language programming using public [dataset](https://raw.githubusercontent.com/limchiahooi/market-basket-analysis/master/BreadBasket_DMS.csv) from model some source coded on github.<br>\n",
    "References at the end of this project."
   ]
  },
  {
   "cell_type": "markdown",
   "metadata": {},
   "source": [
    "***\n",
    "# <a name=\"understanding-mba\">Understanding MBA</a> \n",
    " According to sources ([limchiahooi](https://github.com/limchiahooi/market-basket-analysis)), \"Market basket analysis (MBA), also known as **association-rule mining**, is a method of discovering *customer purchasing patterns* by extracting *associations or co-occurrences* from stores' transactional databases.  It is a modelling technique based upon the theory that if you buy a certain group of items, you are more (or less) likely to buy another group of items. For example, if you are in a supermarket and you buy a loaf of Bread, you are more likely to buy a packet of Butter at the same time than somebody who didn't buy the Bread. (...)\" <br>\n",
    " Same principle can in theory be applied to *scanned items* -- as the scanning process is an integrated part of the purchasing process."
   ]
  },
  {
   "cell_type": "markdown",
   "metadata": {},
   "source": [
    "***\n",
    "### Applications ###\n",
    "There are many real-life applications of MBA:\n",
    "- **Recommendation engine** – showing related products as \"Customers Who Bought This Item Also Bought\" or “Frequently bought together” (as shown in the Amazon example above). It can also be applied to recommend videos and news article by analyzing the videos or news articles that are often watched or read together in a user session.\n",
    "<br>\n",
    "<br>\n",
    "- **Cross-sell / bundle products** – selling associated products as a \"bundle\" instead of individual items. For example, transaction data may show that customers often buy a new phone with screen protector together. Phone retailers can then package new phone with high-margin screen protector together and sell them as a bundle, thereby increasing their sales.\n",
    "<br>\n",
    "<br>\n",
    "- **Arrangement of items in retail stores** – associated items can be placed closer to each other, thereby invoking \"impulse buying\". For example it may be uncovered that customers who buy Barbie dolls also buy candy at the same time. Thus retailers can place high-margin candy near Barbie doll display, thereby tempting customers to buy them together.\n",
    "<br>\n",
    "<br>\n",
    "- **Detecting fraud** – identifying related actions whenever a fraudulent transaction is performed. For example, in a fraudulent insurance claim for stolen vehicle, it may be analyzed (from historical data) that claimant frequently report the incident a few days late (action 1) and often refuse to cooperate with insurer on investigation (action 2). Insurers can identify these red flags once certain behaviours or actions are displayed by the claimants.\n",
    "<br>\n",
    "<br>\n",
    "***"
   ]
  },
  {
   "cell_type": "markdown",
   "metadata": {},
   "source": [
    "***\n",
    "### Case Study ###\n",
    "We are analyzing the hypothetic scanning case of two items – Bread and Butter. We want to know if there is any evidence that suggests that scanning Bread leads to scanning Butter.\n",
    "\n",
    "**Problem Statment:** Is the pscanning of Bread leads to the scanning of Butter?<br><br>\n",
    "**Hypothesis:** There is significant evidence to show that scanning Bread leads to scanning Butter. (As much as buying Bread leads to buying Butter)\n",
    "\n",
    "\n",
    "Bread => Butter\n",
    "\n",
    "Antecedent => Consequent\n",
    "\n",
    "Let's consider a supermarket which generates **1,000 transactions monthly**, of which **Bread was purchased in 150 transactions, Butter in 130 transactions, and both together in 50 transactions**.\n",
    "\n"
   ]
  },
  {
   "cell_type": "markdown",
   "metadata": {},
   "source": [
    "### Analysis and Findings ###\n",
    "We can use MBA to extract the association rule between Bread and Butter. There are *three metrics* or criteria to evaluate the strength or quality of an association rule, which are **support**, **confidence** and **lift**. (*Convictions* is an additional metric used in some cases)<br>\n",
    "More about this [here](https://medium.com/datadriveninvestor/product-recommendation-using-association-rule-mining-for-a-grocery-store-7e7feb6cd0f9)"
   ]
  },
  {
   "cell_type": "markdown",
   "metadata": {},
   "source": [
    "***\n",
    "## <a name=\"implementation-in-python\">Implementation in Python</a> ##\n",
    "On a large dataset, leveraging on Python libraries for a ready-made algorithm is more efficient than the use of traditional Ms Excel to calculate support, confidence and lifts. Furthermore, as the popular scikit-learn library does not allow us to apply **Apriori** algorithm for extracting frequent item sets for further analysis, because not supported this algorithm, we use another library instead: [MLxtend (machine learning extensions)](http://rasbt.github.io/mlxtend/) by Sebastian Raschka. [Chris Moffitt](http://pbpython.com/market-basket-analysis.html) also provides a tutorial on using MLxtend.\n"
   ]
  },
  {
   "cell_type": "markdown",
   "metadata": {},
   "source": [
    "Note. If you are using Jupyter Notebook, the MLxtend library does not come pre-installed with Anaconda, but you can easily install this package with conda, just run one of the following in your Anaconda Prompt:<br><br>\n",
    "`conda install -c conda-forge mlxtend`<br>\n",
    "`conda install -c conda-forge/label/gcc7 mlxtend`"
   ]
  },
  {
   "cell_type": "code",
   "execution_count": null,
   "metadata": {},
   "outputs": [],
   "source": []
  },
  {
   "cell_type": "code",
   "execution_count": null,
   "metadata": {},
   "outputs": [],
   "source": []
  },
  {
   "cell_type": "markdown",
   "metadata": {},
   "source": [
    "### Apriori algorithm\n",
    "#### for frequent pattern mining"
   ]
  },
  {
   "cell_type": "code",
   "execution_count": null,
   "metadata": {},
   "outputs": [],
   "source": []
  },
  {
   "cell_type": "code",
   "execution_count": null,
   "metadata": {},
   "outputs": [],
   "source": []
  },
  {
   "cell_type": "markdown",
   "metadata": {},
   "source": [
    "There is a lot of information in these plots. The key to interpreting these plots is comparing the proportion of the categories for each of the label values. If these proportions are distinctly different for each label category, the feature is likely to be useful in separating the label.  \n",
    "\n",
    "There are several cases evident in these plots:\n",
    "1. Some features such as checking_account_status and credit_history have significantly different distribution of categories between the label categories. \n",
    "2. Others features such as gender_status and telephone show small differences, but these differences are unlikely to be significant. \n",
    "3. Other features like other_signators, foreign_worker, home_ownership, and job_category have a dominant category with very few cases of other categories. These features will likely have very little power to separate the cases.  \n",
    "\n",
    "Notice that only a few of these categorical features will be useful in separating the cases. "
   ]
  },
  {
   "cell_type": "markdown",
   "metadata": {},
   "source": [
    "## Summary\n",
    "\n",
    "In this lab you have performed exploration and visualization to understand the relationships in a classification dataset. Specifically:\n",
    "1. Examine the imbalance in the label cases using a frequency table. \n",
    "2. Find numeric or categorical features that separate the cases using visualization."
   ]
  },
  {
   "cell_type": "markdown",
   "metadata": {},
   "source": [
    "***\n",
    "### References ###\n",
    "- Amir, A. (2019, February 3). Association Rule(Apriori and Eclat Algorithms) with Practical Implementation. *Medium*. Retrieved from https://medium.com/machine-learning-researcher/association-rule-apriori-and-eclat-algorithm-4e963fa972a4\n",
    "- Kaushik, D. (2019, January 15). Product Recommendation Case Study Using Apriori Algorithm for a Grocery Store. *Medium*. Retrieved from https://medium.com/datadriveninvestor/product-recommendation-using-association-rule-mining-for-a-grocery-store-7e7feb6cd0f9\n",
    "- Madalina, C. (2019, Juin 8). An introduction to frequent pattern mining research. Summary of Apriori, Eclat and FP tree algorithms. *IMedium*. Retrieved from https://medium.com/@ciortanmadalina/an-introduction-to-frequent-pattern-mining-research-564f239548e\n",
    "- Andrewngai (2020, March 17). Understand and Build FP-Growth Algorithm in Python. Frequency Pattern Mining using FP-tree and conditional FP-tree in Python. *Towards Data Science*. Retrieved from https://towardsdatascience.com/understand-and-build-fp-growth-algorithm-in-python-d8b989bab342\n",
    "- Xavier Vivancos, G. (2020, May). Market Basket Analysis. *Kaggle*. Retrieved from https://www.kaggle.com/xvivancos/market-basket-analysis\n",
    "\n",
    "\n"
   ]
  },
  {
   "cell_type": "code",
   "execution_count": null,
   "metadata": {},
   "outputs": [],
   "source": []
  }
 ],
 "metadata": {
  "kernelspec": {
   "display_name": "Python 3",
   "language": "python",
   "name": "python3"
  },
  "language_info": {
   "codemirror_mode": {
    "name": "ipython",
    "version": 3
   },
   "file_extension": ".py",
   "mimetype": "text/x-python",
   "name": "python",
   "nbconvert_exporter": "python",
   "pygments_lexer": "ipython3",
   "version": "3.7.7"
  }
 },
 "nbformat": 4,
 "nbformat_minor": 2
}
